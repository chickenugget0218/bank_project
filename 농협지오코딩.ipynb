{
 "cells": [
  {
   "cell_type": "code",
   "execution_count": null,
   "id": "d094691c-784f-47a4-9be1-51d29db6e9de",
   "metadata": {},
   "outputs": [],
   "source": [
    "import time\n",
    "import pandas as pd\n",
    "import pandas as pd\n",
    "import numpy as np\n",
    "import requests, json"
   ]
  },
  {
   "cell_type": "code",
   "execution_count": 76,
   "id": "beb3a334-d778-4a2e-8c63-3877061abffd",
   "metadata": {},
   "outputs": [
    {
     "data": {
      "text/plain": [
       "('37.448330720832', '126.882326488652')"
      ]
     },
     "execution_count": 76,
     "metadata": {},
     "output_type": "execute_result"
    }
   ],
   "source": [
    "final_add = []\n",
    "def get_coordinate(address): # 주소를 입력받음\n",
    "    result = \"\" \n",
    " \n",
    "    url = 'https://dapi.kakao.com/v2/local/search/address.json?query=' + address # 카카오 api 서버스를 이용하여 접근\n",
    "    rest_api_key = '키' # 사용자 api key\n",
    "    header = {'Authorization': 'KakaoAK ' + rest_api_key} \n",
    "\n",
    "    r = requests.get(url, headers=header) \n",
    " \n",
    "    if r.status_code == 200: # 정보를 오류없이 받아왔다면\n",
    "        if len(r.json()['documents']) != 0: # 길이가 0이 아니라면\n",
    "            try : \n",
    "                result_address = r.json()[\"documents\"][0][\"address\"]\n",
    "                result = (result_address[\"y\"],result_address[\"x\"])  # 좌표 정보에 접근\n",
    "                final_add.append(result)\n",
    "            except:  # 예외처리\n",
    "                result = np.nan\n",
    "            \n",
    "        else: # 길이가 0인경우 na처리\n",
    "            result = np.nan\n",
    "            final_add.append(result)\n",
    "    else:\n",
    "        result = \"ERROR[\" + str(r.status_code) + \"]\"\n",
    "    return result # 좌표를 반환\n",
    "\n",
    "get_coordinate('경기 광명시 소하동 1340-3')"
   ]
  },
  {
   "cell_type": "code",
   "execution_count": null,
   "id": "fb6fbbf3-a201-420e-a23c-4752dbd99902",
   "metadata": {},
   "outputs": [
    {
     "ename": "NameError",
     "evalue": "name 'pd' is not defined",
     "output_type": "error",
     "traceback": [
      "\u001b[1;31m---------------------------------------------------------------------------\u001b[0m",
      "\u001b[1;31mNameError\u001b[0m                                 Traceback (most recent call last)",
      "Input \u001b[1;32mIn [1]\u001b[0m, in \u001b[0;36m<cell line: 2>\u001b[1;34m()\u001b[0m\n\u001b[0;32m      1\u001b[0m \u001b[38;5;66;03m#주소 검색 반복으로 지오코딩적용\u001b[39;00m\n\u001b[1;32m----> 2\u001b[0m df \u001b[38;5;241m=\u001b[39m \u001b[43mpd\u001b[49m\u001b[38;5;241m.\u001b[39mread_csv(\u001b[38;5;124m'\u001b[39m\u001b[38;5;124m전국 우체국 현황_20210630\u001b[39m\u001b[38;5;124m'\u001b[39m, encoding \u001b[38;5;241m=\u001b[39m\u001b[38;5;124m'\u001b[39m\u001b[38;5;124meuc-kr\u001b[39m\u001b[38;5;124m'\u001b[39m)\n",
      "\u001b[1;31mNameError\u001b[0m: name 'pd' is not defined"
     ]
    }
   ],
   "source": [
    "#주소 검색 반복으로 지오코딩적용\n",
    "df = pd.read_csv('지역농협데이터.csv', encoding ='euc-kr')"
   ]
  },
  {
   "cell_type": "code",
   "execution_count": 6,
   "id": "3c9d5320-8ec7-4dbf-b03d-21086fefa6ad",
   "metadata": {},
   "outputs": [],
   "source": [
    "xy = []\n",
    "for address in df['address']:\n",
    "    xy.append(get_coordinate(address))\n",
    "\n",
    "df2 = pd.DataFrame(xy, columns =['lat','long'])"
   ]
  },
  {
   "cell_type": "code",
   "execution_count": 28,
   "id": "423ec38d-e220-42a9-8646-256aae9bfc5f",
   "metadata": {},
   "outputs": [
    {
     "data": {
      "text/html": [
       "<div>\n",
       "<style scoped>\n",
       "    .dataframe tbody tr th:only-of-type {\n",
       "        vertical-align: middle;\n",
       "    }\n",
       "\n",
       "    .dataframe tbody tr th {\n",
       "        vertical-align: top;\n",
       "    }\n",
       "\n",
       "    .dataframe thead th {\n",
       "        text-align: right;\n",
       "    }\n",
       "</style>\n",
       "<table border=\"1\" class=\"dataframe\">\n",
       "  <thead>\n",
       "    <tr style=\"text-align: right;\">\n",
       "      <th></th>\n",
       "      <th>lat</th>\n",
       "      <th>long</th>\n",
       "    </tr>\n",
       "  </thead>\n",
       "  <tbody>\n",
       "    <tr>\n",
       "      <th>0</th>\n",
       "      <td>37.2031672989696</td>\n",
       "      <td>127.545087261862</td>\n",
       "    </tr>\n",
       "    <tr>\n",
       "      <th>1</th>\n",
       "      <td>37.2076886208325</td>\n",
       "      <td>127.543343281</td>\n",
       "    </tr>\n",
       "    <tr>\n",
       "      <th>2</th>\n",
       "      <td>35.1946905162414</td>\n",
       "      <td>128.902233540527</td>\n",
       "    </tr>\n",
       "    <tr>\n",
       "      <th>3</th>\n",
       "      <td>37.847420301178</td>\n",
       "      <td>127.187506515502</td>\n",
       "    </tr>\n",
       "    <tr>\n",
       "      <th>4</th>\n",
       "      <td>36.086291991551</td>\n",
       "      <td>128.539241611434</td>\n",
       "    </tr>\n",
       "  </tbody>\n",
       "</table>\n",
       "</div>"
      ],
      "text/plain": [
       "                lat              long\n",
       "0  37.2031672989696  127.545087261862\n",
       "1  37.2076886208325     127.543343281\n",
       "2  35.1946905162414  128.902233540527\n",
       "3   37.847420301178  127.187506515502\n",
       "4   36.086291991551  128.539241611434"
      ]
     },
     "execution_count": 28,
     "metadata": {},
     "output_type": "execute_result"
    }
   ],
   "source": [
    "df2.head()"
   ]
  },
  {
   "cell_type": "code",
   "execution_count": 27,
   "id": "be02c8e7-3932-4efb-ac18-0df795e7507a",
   "metadata": {},
   "outputs": [
    {
     "data": {
      "text/plain": [
       "(4792, 2)"
      ]
     },
     "execution_count": 27,
     "metadata": {},
     "output_type": "execute_result"
    }
   ],
   "source": [
    "df2.shape"
   ]
  },
  {
   "cell_type": "code",
   "execution_count": 29,
   "id": "b25e888e-5e08-4d1d-ab17-7455f6744e00",
   "metadata": {},
   "outputs": [],
   "source": [
    "#df 병합\n",
    "result = pd.concat([df,df2],axis=1)"
   ]
  },
  {
   "cell_type": "code",
   "execution_count": 30,
   "id": "72889c74-3015-469a-8fb4-ee049b1f7116",
   "metadata": {},
   "outputs": [
    {
     "data": {
      "text/html": [
       "<div>\n",
       "<style scoped>\n",
       "    .dataframe tbody tr th:only-of-type {\n",
       "        vertical-align: middle;\n",
       "    }\n",
       "\n",
       "    .dataframe tbody tr th {\n",
       "        vertical-align: top;\n",
       "    }\n",
       "\n",
       "    .dataframe thead th {\n",
       "        text-align: right;\n",
       "    }\n",
       "</style>\n",
       "<table border=\"1\" class=\"dataframe\">\n",
       "  <thead>\n",
       "    <tr style=\"text-align: right;\">\n",
       "      <th></th>\n",
       "      <th>branch</th>\n",
       "      <th>address</th>\n",
       "      <th>tel</th>\n",
       "      <th>lat</th>\n",
       "      <th>long</th>\n",
       "    </tr>\n",
       "  </thead>\n",
       "  <tbody>\n",
       "    <tr>\n",
       "      <th>0</th>\n",
       "      <td>가남농협 (농·축협)</td>\n",
       "      <td>경기도 여주시 가남읍 태평중앙1길 8-12</td>\n",
       "      <td>T. 031-883-2271</td>\n",
       "      <td>37.2031672989696</td>\n",
       "      <td>127.545087261862</td>\n",
       "    </tr>\n",
       "    <tr>\n",
       "      <th>1</th>\n",
       "      <td>가남농협 태평지점 (농·축협)</td>\n",
       "      <td>경기도 여주시 가남읍 경충대로 1342</td>\n",
       "      <td>T. 031-885-9326</td>\n",
       "      <td>37.2076886208325</td>\n",
       "      <td>127.543343281</td>\n",
       "    </tr>\n",
       "    <tr>\n",
       "      <th>2</th>\n",
       "      <td>가락농협 (농·축협)</td>\n",
       "      <td>부산광역시 강서구 가락대로 1459</td>\n",
       "      <td>T. 051-972-6601</td>\n",
       "      <td>35.1946905162414</td>\n",
       "      <td>128.902233540527</td>\n",
       "    </tr>\n",
       "    <tr>\n",
       "      <th>3</th>\n",
       "      <td>가산농협 (농·축협)</td>\n",
       "      <td>경기도 포천시 가산면 선마로 233</td>\n",
       "      <td>T. 031-544-0100</td>\n",
       "      <td>37.847420301178</td>\n",
       "      <td>127.187506515502</td>\n",
       "    </tr>\n",
       "    <tr>\n",
       "      <th>4</th>\n",
       "      <td>가산농협 (농·축협)</td>\n",
       "      <td>경상북도 칠곡군 가산면 천평1길 5</td>\n",
       "      <td>T. 054-971-4021</td>\n",
       "      <td>36.086291991551</td>\n",
       "      <td>128.539241611434</td>\n",
       "    </tr>\n",
       "  </tbody>\n",
       "</table>\n",
       "</div>"
      ],
      "text/plain": [
       "             branch                  address              tel  \\\n",
       "0       가남농협 (농·축협)  경기도 여주시 가남읍 태평중앙1길 8-12  T. 031-883-2271   \n",
       "1  가남농협 태평지점 (농·축협)    경기도 여주시 가남읍 경충대로 1342  T. 031-885-9326   \n",
       "2       가락농협 (농·축협)      부산광역시 강서구 가락대로 1459  T. 051-972-6601   \n",
       "3       가산농협 (농·축협)      경기도 포천시 가산면 선마로 233  T. 031-544-0100   \n",
       "4       가산농협 (농·축협)      경상북도 칠곡군 가산면 천평1길 5  T. 054-971-4021   \n",
       "\n",
       "                lat              long  \n",
       "0  37.2031672989696  127.545087261862  \n",
       "1  37.2076886208325     127.543343281  \n",
       "2  35.1946905162414  128.902233540527  \n",
       "3   37.847420301178  127.187506515502  \n",
       "4   36.086291991551  128.539241611434  "
      ]
     },
     "execution_count": 30,
     "metadata": {},
     "output_type": "execute_result"
    }
   ],
   "source": [
    "result.head()"
   ]
  },
  {
   "cell_type": "code",
   "execution_count": 31,
   "id": "0eadfef3-0ebe-49e1-8902-8fffa7700b0b",
   "metadata": {},
   "outputs": [
    {
     "data": {
      "text/html": [
       "<div>\n",
       "<style scoped>\n",
       "    .dataframe tbody tr th:only-of-type {\n",
       "        vertical-align: middle;\n",
       "    }\n",
       "\n",
       "    .dataframe tbody tr th {\n",
       "        vertical-align: top;\n",
       "    }\n",
       "\n",
       "    .dataframe thead th {\n",
       "        text-align: right;\n",
       "    }\n",
       "</style>\n",
       "<table border=\"1\" class=\"dataframe\">\n",
       "  <thead>\n",
       "    <tr style=\"text-align: right;\">\n",
       "      <th></th>\n",
       "      <th>branch</th>\n",
       "      <th>address</th>\n",
       "      <th>tel</th>\n",
       "      <th>lat</th>\n",
       "      <th>long</th>\n",
       "    </tr>\n",
       "  </thead>\n",
       "  <tbody>\n",
       "    <tr>\n",
       "      <th>4787</th>\n",
       "      <td>흥해농협 (농·축협)</td>\n",
       "      <td>경상북도 포항시 북구 흥해읍 흥해로 77</td>\n",
       "      <td>T. 054-261-5001</td>\n",
       "      <td>36.1116454619089</td>\n",
       "      <td>129.347590790564</td>\n",
       "    </tr>\n",
       "    <tr>\n",
       "      <th>4788</th>\n",
       "      <td>흥해농협 남부지점 (농·축협)</td>\n",
       "      <td>경상북도 포항시 북구 흥해읍 동해대로 1486</td>\n",
       "      <td>T. 054-261-5580</td>\n",
       "      <td>36.1051956557013</td>\n",
       "      <td>129.343866064622</td>\n",
       "    </tr>\n",
       "    <tr>\n",
       "      <th>4789</th>\n",
       "      <td>흥해농협 달전지점 (농·축협)</td>\n",
       "      <td>경상북도 포항시 북구 흥해읍 소티재로 323</td>\n",
       "      <td>T. 054-261-9530</td>\n",
       "      <td>36.0774891786154</td>\n",
       "      <td>129.3428177039</td>\n",
       "    </tr>\n",
       "    <tr>\n",
       "      <th>4790</th>\n",
       "      <td>흥해농협 중앙지점 (농·축협)</td>\n",
       "      <td>경상북도 포항시 북구 흥해읍 한동로33번길 4</td>\n",
       "      <td>T. 054-261-8646</td>\n",
       "      <td>36.1110186962334</td>\n",
       "      <td>129.345579131907</td>\n",
       "    </tr>\n",
       "    <tr>\n",
       "      <th>4791</th>\n",
       "      <td>흥해농협 초곡지점 (농·축협)</td>\n",
       "      <td>경상북도 포항시 북구 흥해읍 초곡지구로 57</td>\n",
       "      <td>T. 054-261-5040</td>\n",
       "      <td>36.0962633301</td>\n",
       "      <td>129.340205211014</td>\n",
       "    </tr>\n",
       "  </tbody>\n",
       "</table>\n",
       "</div>"
      ],
      "text/plain": [
       "                branch                    address              tel  \\\n",
       "4787       흥해농협 (농·축협)     경상북도 포항시 북구 흥해읍 흥해로 77  T. 054-261-5001   \n",
       "4788  흥해농협 남부지점 (농·축협)  경상북도 포항시 북구 흥해읍 동해대로 1486  T. 054-261-5580   \n",
       "4789  흥해농협 달전지점 (농·축협)   경상북도 포항시 북구 흥해읍 소티재로 323  T. 054-261-9530   \n",
       "4790  흥해농협 중앙지점 (농·축협)  경상북도 포항시 북구 흥해읍 한동로33번길 4  T. 054-261-8646   \n",
       "4791  흥해농협 초곡지점 (농·축협)   경상북도 포항시 북구 흥해읍 초곡지구로 57  T. 054-261-5040   \n",
       "\n",
       "                   lat              long  \n",
       "4787  36.1116454619089  129.347590790564  \n",
       "4788  36.1051956557013  129.343866064622  \n",
       "4789  36.0774891786154    129.3428177039  \n",
       "4790  36.1110186962334  129.345579131907  \n",
       "4791     36.0962633301  129.340205211014  "
      ]
     },
     "execution_count": 31,
     "metadata": {},
     "output_type": "execute_result"
    }
   ],
   "source": [
    "result.tail()"
   ]
  },
  {
   "cell_type": "code",
   "execution_count": 32,
   "id": "844b9e8b-ef6e-4df7-98f4-fe8d9b76e6ee",
   "metadata": {},
   "outputs": [
    {
     "data": {
      "text/plain": [
       "(4792, 5)"
      ]
     },
     "execution_count": 32,
     "metadata": {},
     "output_type": "execute_result"
    }
   ],
   "source": [
    "result.shape"
   ]
  },
  {
   "cell_type": "code",
   "execution_count": 33,
   "id": "29880dfd-ed3d-49e5-bc1e-903b300f0a80",
   "metadata": {},
   "outputs": [],
   "source": [
    "result.to_csv('농협_geo.csv',index = False, encoding ='euc-kr')"
   ]
  }
 ],
 "metadata": {
  "kernelspec": {
   "display_name": "Python 3 (ipykernel)",
   "language": "python",
   "name": "python3"
  },
  "language_info": {
   "codemirror_mode": {
    "name": "ipython",
    "version": 3
   },
   "file_extension": ".py",
   "mimetype": "text/x-python",
   "name": "python",
   "nbconvert_exporter": "python",
   "pygments_lexer": "ipython3",
   "version": "3.9.12"
  }
 },
 "nbformat": 4,
 "nbformat_minor": 5
}
