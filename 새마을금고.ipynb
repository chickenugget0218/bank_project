{
 "cells": [
  {
   "cell_type": "code",
   "execution_count": 2,
   "id": "8a69313d-1a23-4660-bcbd-0f2f2570bf4a",
   "metadata": {},
   "outputs": [],
   "source": [
    "from selenium import webdriver\n",
    "from selenium.webdriver.common.keys import Keys\n",
    "from selenium.webdriver.common.by import By\n",
    "import time\n",
    "import pandas as pd\n",
    "import re\n",
    "from bs4 import BeautifulSoup\n",
    "import requests"
   ]
  },
  {
   "cell_type": "code",
   "execution_count": 4,
   "id": "b45df61c-9475-4723-9c0d-929caff5df13",
   "metadata": {},
   "outputs": [
    {
     "name": "stdout",
     "output_type": "stream",
     "text": [
      "['1', '도봉(본점)', '지역', '서울 도봉구 도당로 134', '02-3494-4114', ' ', '2', '도봉(창동)', '지역', '서울 도봉구 노해로63가길 36', '02-900-5722', ' ', '3', '도봉(신창)', '지역', '서울 도봉구 덕릉로 249', '02-992-8100', ' ', '4', '서울개인택시조합(도봉)', '지역', '서울 도봉구 해등로32길 76', '02-955-0746', ' ']\n",
      "-------------------------current page is 1--------------------------\n"
     ]
    }
   ],
   "source": [
    "driver= webdriver.Chrome(\"chromedriver\")\n",
    "driver.get('https://www.kfcc.co.kr/map/main.do')\n",
    "\n",
    "\n",
    "## xpath      //*[@id=\"main_right\"]/div[2]\n",
    "## selector   main_right > div.mapList\n",
    "\n",
    "curPage = 1\n",
    "\n",
    "\n",
    "# //*[@id=\"main_right\"]/div[2]/ul/li[2]/a 시작\n",
    "#//*[@id=\"main_right\"]/div[2]/ul/li[25]/a 마지막임\n",
    "\n",
    "# 서울지역 구 선택\n",
    "\n",
    "#xpath = '//*[@id=\"main_right\"]/div[2]/ul/li[{0}]/a'.format(1,25)\n",
    "\n",
    "#xpath = '//*[@id=\"main_right\"]/div[2]/ul/li[{0}]/a'.format(curPage)\n",
    "\n",
    "xpath = '//*[@id=\"main_right\"]/div[2]/ul/li[{0}]/a'.format(1)\n",
    "#서울 도봉구\n",
    "driver.find_element(By.XPATH,xpath).click()\n",
    "#driver.find_element(By.XPATH,'//*[@id=\"main_right\"]/div[2]/ul/li[1]/a').click()\n",
    "time.sleep(1)\n",
    "\n",
    "## 테이블\n",
    "tbody = driver.find_element_by_tag_name(\"tbody\")\n",
    "\n",
    "#새로 저장할 문자열\n",
    "td_list=[]\n",
    "\n",
    "\n",
    "# tbody > tr >td\n",
    "for tr in tbody.find_elements_by_tag_name(\"tr\"):\n",
    "    for td in tr.find_elements_by_tag_name(\"td\"):\n",
    "        swap = td.get_attribute(\"innerText\")\n",
    "        swap = re.sub('\\n','',swap) #필요없는 문자 제거\n",
    "        swap = re.sub('[위치]','',swap)\n",
    "        swap = re.sub('[금리]','',swap)\n",
    "        td_list.append(swap) #저장\n",
    "\n",
    "# 확인        \n",
    "print(td_list)\n",
    "\n",
    "\n",
    "\n",
    "\n",
    "# 현재페이지 표시 후 다음페이지\n",
    "print(\"-------------------------current page is {0}--------------------------\".format(curPage))\n",
    "curPage +=1\n",
    "time.sleep(2)\n",
    "\n",
    "#메인으로 돌아감\n",
    "driver.find_element(By.XPATH,'//*[@id=\"mCSB_1_container\"]/div[1]/a[1]').click()\n",
    "\n",
    "#browser.close()"
   ]
  },
  {
   "cell_type": "code",
   "execution_count": 9,
   "id": "4a83787a-71b0-4ac3-83ee-b09dacf818e1",
   "metadata": {},
   "outputs": [
    {
     "name": "stdout",
     "output_type": "stream",
     "text": [
      "['1', '도봉(본점)', '지역', '서울 도봉구 도당로 134', '02-3494-4114', ' ', '2', '도봉(창동)', '지역', '서울 도봉구 노해로63가길 36', '02-900-5722', ' ', '3', '도봉(신창)', '지역', '서울 도봉구 덕릉로 249', '02-992-8100', ' ', '4', '서울개인택시조합(도봉)', '지역', '서울 도봉구 해등로32길 76', '02-955-0746', ' ']\n"
     ]
    }
   ],
   "source": [
    "print(td_list)"
   ]
  },
  {
   "cell_type": "code",
   "execution_count": 3,
   "id": "c8cd6c2d-c1c4-4f7f-a7ec-b20cf5aa8bfc",
   "metadata": {},
   "outputs": [
    {
     "name": "stdout",
     "output_type": "stream",
     "text": [
      "['도봉\\n(본점)', '지역', '서울 도봉구 도당로 134', '02-900-5722', '도봉\\n(본점)', '지역', '서울 도봉구 도당로 134', '02-900-5722', '도봉\\n(본점)', '지역', '서울 도봉구 도당로 134', '02-900-5722', '도봉\\n(본점)', '지역', '서울 도봉구 도당로 134', '02-900-5722', '도봉\\n(본점)', '지역', '서울 도봉구 도당로 134', '02-900-5722', '도봉\\n(본점)', '지역', '서울 도봉구 도당로 134', '02-900-5722', '도봉\\n(본점)', '지역', '서울 도봉구 도당로 134', '02-900-5722', '도봉\\n(본점)', '지역', '서울 도봉구 도당로 134', '02-900-5722', '도봉\\n(본점)', '지역', '서울 도봉구 도당로 134', '02-900-5722', '도봉\\n(본점)', '지역', '서울 도봉구 도당로 134', '02-900-5722', '도봉\\n(본점)', '지역', '서울 도봉구 도당로 134', '02-900-5722', '도봉\\n(본점)', '지역', '서울 도봉구 도당로 134', '02-900-5722', '도봉\\n(본점)', '지역', '서울 도봉구 도당로 134', '02-900-5722', '도봉\\n(본점)', '지역', '서울 도봉구 도당로 134', '02-900-5722', '도봉\\n(본점)', '지역', '서울 도봉구 도당로 134', '02-900-5722', '도봉\\n(본점)', '지역', '서울 도봉구 도당로 134', '02-900-5722', '도봉\\n(본점)', '지역', '서울 도봉구 도당로 134', '02-900-5722', '도봉\\n(본점)', '지역', '서울 도봉구 도당로 134', '02-900-5722', '도봉\\n(본점)', '지역', '서울 도봉구 도당로 134', '02-900-5722', '도봉\\n(본점)', '지역', '서울 도봉구 도당로 134', '02-900-5722', '도봉\\n(본점)', '지역', '서울 도봉구 도당로 134', '02-900-5722', '도봉\\n(본점)', '지역', '서울 도봉구 도당로 134', '02-900-5722', '도봉\\n(본점)', '지역', '서울 도봉구 도당로 134', '02-900-5722', '도봉\\n(본점)', '지역', '서울 도봉구 도당로 134', '02-900-5722']\n",
      "-------------------------current page is 1--------------------------\n"
     ]
    }
   ],
   "source": [
    "driver= webdriver.Chrome(\"chromedriver\")\n",
    "driver.get('https://www.kfcc.co.kr/map/main.do')\n",
    "\n",
    "\n",
    "## xpath      //*[@id=\"main_right\"]/div[2]\n",
    "## selector   main_right > div.mapList\n",
    "\n",
    "#서울 도봉구\n",
    "driver.find_element(By.XPATH,'//*[@id=\"main_right\"]/div[2]/ul/li[1]/a').click()\n",
    "time.sleep(1)\n",
    "\n",
    "## 테이블\n",
    "tbody = driver.find_element_by_tag_name(\"tbody\")\n",
    "\n",
    "#새로 저장할 문자열\n",
    "td_list=[]\n",
    "\n",
    "branch=[]\n",
    "category=[]\n",
    "address=[]\n",
    "tel=[]\n",
    "# tbody > tr >td\n",
    "for tr in tbody.find_elements_by_tag_name(\"tr\"):\n",
    "\n",
    "    \n",
    "    for td in tr.find_elements_by_tag_name(\"td\"):\n",
    "        branch = driver.find_element(By.XPATH,'//*[@id=\"1\"]/td[2]')\n",
    "        category = driver.find_element(By.XPATH,'//*[@id=\"1\"]/td[3]')\n",
    "        address = driver.find_element(By.XPATH,'//*[@id=\"1\"]/td[4]')\n",
    "        tel = driver.find_element(By.XPATH,'//*[@id=\"2\"]/td[5]/em')\n",
    "\n",
    "        # swap1 = branch.get_attribute(\"innerText\")\n",
    "        # swap2 = category.get_attribute(\"innerText\")\n",
    "        # swap3 = address.get_attribute(\"innerText\")\n",
    "        # swap4 = tel.get_attribute(\"innerText\")\n",
    "\n",
    "        # td_list.append(swap1) #저장\n",
    "        # td_list.append(swap2) #저장\n",
    "        # td_list.append(swap3) #저장\n",
    "        # td_list.append(swap4) #저장\n",
    "\n",
    "        td_list.append(branch.text) #저장\n",
    "        td_list.append(category.text) #저장\n",
    "        td_list.append(address.text) #저장\n",
    "        td_list.append(tel.text) #저장\n",
    "\n",
    "\n",
    "# 확인        \n",
    "print(td_list)\n",
    "\n",
    "curPage = 1\n",
    "# 현재페이지 표시 후 다음페이지\n",
    "print(\"-------------------------current page is {0}--------------------------\".format(curPage))\n",
    "curPage +=1\n",
    "    \n",
    "time.sleep(2)\n",
    "\n",
    "#메인으로 돌아감\n",
    "#driver.find_element(By.XPATH,'//*[@id=\"mCSB_1_container\"]/div[1]/a[{0}]').format(curPage).click()\n"
   ]
  },
  {
   "cell_type": "code",
   "execution_count": 11,
   "id": "3a18d665-9841-44cd-b7c7-06db9e470429",
   "metadata": {},
   "outputs": [
    {
     "ename": "WebDriverException",
     "evalue": "Message: chrome not reachable\n  (Session info: chrome=105.0.5195.102)\n",
     "output_type": "error",
     "traceback": [
      "\u001b[1;31m---------------------------------------------------------------------------\u001b[0m",
      "\u001b[1;31mWebDriverException\u001b[0m                        Traceback (most recent call last)",
      "Input \u001b[1;32mIn [11]\u001b[0m, in \u001b[0;36m<cell line: 1>\u001b[1;34m()\u001b[0m\n\u001b[1;32m----> 1\u001b[0m \u001b[38;5;28mprint\u001b[39m(\u001b[43mbranch\u001b[49m\u001b[38;5;241;43m.\u001b[39;49m\u001b[43mtext\u001b[49m)\n",
      "File \u001b[1;32m~\\anaconda3\\lib\\site-packages\\selenium\\webdriver\\remote\\webelement.py:76\u001b[0m, in \u001b[0;36mWebElement.text\u001b[1;34m(self)\u001b[0m\n\u001b[0;32m     73\u001b[0m \u001b[38;5;129m@property\u001b[39m\n\u001b[0;32m     74\u001b[0m \u001b[38;5;28;01mdef\u001b[39;00m \u001b[38;5;21mtext\u001b[39m(\u001b[38;5;28mself\u001b[39m):\n\u001b[0;32m     75\u001b[0m     \u001b[38;5;124;03m\"\"\"The text of the element.\"\"\"\u001b[39;00m\n\u001b[1;32m---> 76\u001b[0m     \u001b[38;5;28;01mreturn\u001b[39;00m \u001b[38;5;28;43mself\u001b[39;49m\u001b[38;5;241;43m.\u001b[39;49m\u001b[43m_execute\u001b[49m\u001b[43m(\u001b[49m\u001b[43mCommand\u001b[49m\u001b[38;5;241;43m.\u001b[39;49m\u001b[43mGET_ELEMENT_TEXT\u001b[49m\u001b[43m)\u001b[49m[\u001b[38;5;124m'\u001b[39m\u001b[38;5;124mvalue\u001b[39m\u001b[38;5;124m'\u001b[39m]\n",
      "File \u001b[1;32m~\\anaconda3\\lib\\site-packages\\selenium\\webdriver\\remote\\webelement.py:633\u001b[0m, in \u001b[0;36mWebElement._execute\u001b[1;34m(self, command, params)\u001b[0m\n\u001b[0;32m    631\u001b[0m     params \u001b[38;5;241m=\u001b[39m {}\n\u001b[0;32m    632\u001b[0m params[\u001b[38;5;124m'\u001b[39m\u001b[38;5;124mid\u001b[39m\u001b[38;5;124m'\u001b[39m] \u001b[38;5;241m=\u001b[39m \u001b[38;5;28mself\u001b[39m\u001b[38;5;241m.\u001b[39m_id\n\u001b[1;32m--> 633\u001b[0m \u001b[38;5;28;01mreturn\u001b[39;00m \u001b[38;5;28;43mself\u001b[39;49m\u001b[38;5;241;43m.\u001b[39;49m\u001b[43m_parent\u001b[49m\u001b[38;5;241;43m.\u001b[39;49m\u001b[43mexecute\u001b[49m\u001b[43m(\u001b[49m\u001b[43mcommand\u001b[49m\u001b[43m,\u001b[49m\u001b[43m \u001b[49m\u001b[43mparams\u001b[49m\u001b[43m)\u001b[49m\n",
      "File \u001b[1;32m~\\anaconda3\\lib\\site-packages\\selenium\\webdriver\\remote\\webdriver.py:321\u001b[0m, in \u001b[0;36mWebDriver.execute\u001b[1;34m(self, driver_command, params)\u001b[0m\n\u001b[0;32m    319\u001b[0m response \u001b[38;5;241m=\u001b[39m \u001b[38;5;28mself\u001b[39m\u001b[38;5;241m.\u001b[39mcommand_executor\u001b[38;5;241m.\u001b[39mexecute(driver_command, params)\n\u001b[0;32m    320\u001b[0m \u001b[38;5;28;01mif\u001b[39;00m response:\n\u001b[1;32m--> 321\u001b[0m     \u001b[38;5;28;43mself\u001b[39;49m\u001b[38;5;241;43m.\u001b[39;49m\u001b[43merror_handler\u001b[49m\u001b[38;5;241;43m.\u001b[39;49m\u001b[43mcheck_response\u001b[49m\u001b[43m(\u001b[49m\u001b[43mresponse\u001b[49m\u001b[43m)\u001b[49m\n\u001b[0;32m    322\u001b[0m     response[\u001b[38;5;124m'\u001b[39m\u001b[38;5;124mvalue\u001b[39m\u001b[38;5;124m'\u001b[39m] \u001b[38;5;241m=\u001b[39m \u001b[38;5;28mself\u001b[39m\u001b[38;5;241m.\u001b[39m_unwrap_value(\n\u001b[0;32m    323\u001b[0m         response\u001b[38;5;241m.\u001b[39mget(\u001b[38;5;124m'\u001b[39m\u001b[38;5;124mvalue\u001b[39m\u001b[38;5;124m'\u001b[39m, \u001b[38;5;28;01mNone\u001b[39;00m))\n\u001b[0;32m    324\u001b[0m     \u001b[38;5;28;01mreturn\u001b[39;00m response\n",
      "File \u001b[1;32m~\\anaconda3\\lib\\site-packages\\selenium\\webdriver\\remote\\errorhandler.py:242\u001b[0m, in \u001b[0;36mErrorHandler.check_response\u001b[1;34m(self, response)\u001b[0m\n\u001b[0;32m    240\u001b[0m         alert_text \u001b[38;5;241m=\u001b[39m value[\u001b[38;5;124m'\u001b[39m\u001b[38;5;124malert\u001b[39m\u001b[38;5;124m'\u001b[39m]\u001b[38;5;241m.\u001b[39mget(\u001b[38;5;124m'\u001b[39m\u001b[38;5;124mtext\u001b[39m\u001b[38;5;124m'\u001b[39m)\n\u001b[0;32m    241\u001b[0m     \u001b[38;5;28;01mraise\u001b[39;00m exception_class(message, screen, stacktrace, alert_text)\n\u001b[1;32m--> 242\u001b[0m \u001b[38;5;28;01mraise\u001b[39;00m exception_class(message, screen, stacktrace)\n",
      "\u001b[1;31mWebDriverException\u001b[0m: Message: chrome not reachable\n  (Session info: chrome=105.0.5195.102)\n"
     ]
    }
   ],
   "source": [
    "print(branch.text)"
   ]
  },
  {
   "cell_type": "code",
   "execution_count": 19,
   "id": "4f150dfa-afff-4a58-878d-a2f2bec6716a",
   "metadata": {},
   "outputs": [
    {
     "name": "stdout",
     "output_type": "stream",
     "text": [
      "['1', '아현(본점)', '지역', '서울 마포구 신촌로 234', '02-363-3156', ' ', '2', '아현(서강)', '지역', '서울 마포구 독막로 100', '02-337-7151', ' ', '3', '마포중앙(본점)', '지역', '서울 마포구 마포대로 173-14', '02-362-0244', ' ', '4', '신공덕동(본점)', '지역', '서울 마포구 마포대로8길 37', '02-715-5959', ' ', '5', '신마포(본점)', '지역', '서울 마포구 도화길 50-7', '02-713-2544', ' ', '6', '신마포(염)', '지역', '서울 마포구 숭문길 58', '02-711-9080', ' ', '7', '마포역(본점)', '지역', '서울 마포구 삼개로1길 3', '02-713-0324', ' ', '8', '마포역(용강)', '지역', '서울 마포구 큰우물로 53', '02-719-3581', ' ', '9', '망원(본점)', '지역', '서울 마포구 월드컵로25길 55', '02-336-6502', ' ', '10', '성암(본점)', '지역', '서울 마포구 월드컵북로44길 29', '02-374-7447', ' ', '\\t\\t\\t\\t\\t\\t\\t\\t\\t\\t\\t\\t\\t11 \\t\\t\\t\\t\\t\\t\\t\\t\\t\\t\\t\\t\\t0436\\t\\t\\t\\t\\t\\t\\t\\t\\t\\t\\t\\t\\t성암\\t\\t\\t\\t\\t\\t\\t\\t\\t\\t\\t\\t\\t성암\\t\\t\\t\\t\\t\\t\\t\\t\\t\\t\\t\\t\\t002\\t\\t\\t\\t\\t\\t\\t\\t\\t\\t\\t\\t\\t상암동월드컵아파트\\t\\t\\t\\t\\t\\t\\t\\t\\t\\t\\t\\t\\t지역\\t\\t\\t\\t\\t\\t\\t\\t\\t\\t\\t\\t\\t02-372-8523\\t\\t\\t\\t\\t\\t\\t\\t\\t\\t\\t\\t\\t02-372-8526\\t\\t\\t\\t\\t\\t\\t\\t\\t\\t\\t\\t\\t서울 마포구 매봉산로 24\\t\\t\\t\\t\\t\\t\\t\\t\\t\\t\\t\\t\\t서울\\t\\t\\t\\t\\t\\t\\t\\t\\t\\t\\t\\t\\t마포구\\t\\t\\t\\t\\t\\t\\t\\t\\t\\t\\t\\t\\t0436\\t\\t\\t\\t\\t\\t\\t\\t\\t\\t\\t\\t\\t002\\t\\t\\t\\t\\t\\t\\t\\t\\t\\t\\t\\t\\t\\t\\t\\t\\t\\t\\t\\t\\t\\t\\t\\t\\t\\t\\t\\t\\t\\t\\t\\t\\t\\t\\t\\t\\t\\t\\t1\\t\\t\\t\\t\\t\\t\\t\\t\\t\\t\\t\\t', '\\t\\t\\t\\t\\t\\t\\t\\t\\t\\t\\t\\t\\t\\t\\t\\t\\t\\t\\t\\t\\t\\t\\t\\t\\t\\t\\t성암\\t\\t\\t\\t\\t\\t\\t\\t\\t\\t\\t\\t\\t\\t\\t\\t\\t\\t\\t\\t\\t\\t\\t\\t\\t\\t\\t\\t\\t\\t\\t\\t\\t\\t\\t\\t\\t\\t\\t\\t\\t\\t\\t(상암동월드컵아파트)\\t\\t\\t\\t\\t\\t\\t\\t\\t\\t\\t\\t\\t\\t\\t\\t\\t\\t\\t\\t\\t\\t\\t\\t\\t\\t\\t\\t\\t\\t\\t\\t\\t\\t\\t\\t\\t\\t\\t\\t\\t\\t\\t\\t\\t\\t\\t\\t\\t\\t\\t\\t\\t\\t\\t\\t\\t\\t\\t\\t\\t\\t\\t\\t\\t\\t\\t\\t\\t\\t\\t\\t\\t\\t\\t\\t\\t\\t\\t\\t\\t\\t\\t\\t\\t\\t\\t\\t\\t\\t\\t\\t\\t\\t\\t', '지역', '\\t\\t\\t\\t\\t\\t\\t\\t\\t\\t\\t\\t\\t서울 마포구 매봉산로 24\\t\\t\\t\\t\\t\\t\\t\\t\\t\\t\\t\\t', '\\t\\t\\t\\t\\t\\t\\t\\t\\t\\t\\t\\t\\t02-372-8523\\t\\t\\t\\t\\t\\t\\t\\t\\t\\t\\t\\t', '\\t\\t\\t\\t\\t\\t\\t\\t\\t\\t\\t\\t\\t\\t\\t\\t\\t\\t\\t\\t\\t\\t\\t\\t\\t\\t\\t\\t\\t\\t\\t\\t\\t\\t\\t\\t\\t\\t', '\\t\\t\\t\\t\\t\\t\\t\\t\\t\\t\\t\\t\\t12 \\t\\t\\t\\t\\t\\t\\t\\t\\t\\t\\t\\t\\t0436\\t\\t\\t\\t\\t\\t\\t\\t\\t\\t\\t\\t\\t성암\\t\\t\\t\\t\\t\\t\\t\\t\\t\\t\\t\\t\\t성암\\t\\t\\t\\t\\t\\t\\t\\t\\t\\t\\t\\t\\t003\\t\\t\\t\\t\\t\\t\\t\\t\\t\\t\\t\\t\\t성산\\t\\t\\t\\t\\t\\t\\t\\t\\t\\t\\t\\t\\t지역\\t\\t\\t\\t\\t\\t\\t\\t\\t\\t\\t\\t\\t02-372-7447\\t\\t\\t\\t\\t\\t\\t\\t\\t\\t\\t\\t\\t02-305-4110\\t\\t\\t\\t\\t\\t\\t\\t\\t\\t\\t\\t\\t서울 마포구 월드컵북로 175\\t\\t\\t\\t\\t\\t\\t\\t\\t\\t\\t\\t\\t서울\\t\\t\\t\\t\\t\\t\\t\\t\\t\\t\\t\\t\\t마포구\\t\\t\\t\\t\\t\\t\\t\\t\\t\\t\\t\\t\\t0436\\t\\t\\t\\t\\t\\t\\t\\t\\t\\t\\t\\t\\t003\\t\\t\\t\\t\\t\\t\\t\\t\\t\\t\\t\\t\\t\\t\\t\\t\\t\\t\\t\\t\\t\\t\\t\\t\\t\\t\\t\\t\\t\\t\\t\\t\\t\\t\\t\\t\\t\\t\\t1\\t\\t\\t\\t\\t\\t\\t\\t\\t\\t\\t\\t', '\\t\\t\\t\\t\\t\\t\\t\\t\\t\\t\\t\\t\\t\\t\\t\\t\\t\\t\\t\\t\\t\\t\\t\\t\\t\\t\\t성암\\t\\t\\t\\t\\t\\t\\t\\t\\t\\t\\t\\t\\t\\t\\t\\t\\t\\t\\t\\t\\t\\t\\t\\t\\t\\t\\t\\t\\t\\t\\t\\t\\t\\t\\t\\t\\t\\t\\t\\t\\t\\t\\t(성산)\\t\\t\\t\\t\\t\\t\\t\\t\\t\\t\\t\\t\\t\\t\\t\\t\\t\\t\\t\\t\\t\\t\\t\\t\\t\\t\\t\\t\\t\\t\\t\\t\\t\\t\\t\\t\\t\\t\\t\\t\\t\\t\\t\\t\\t\\t\\t\\t\\t\\t\\t\\t\\t\\t\\t\\t\\t\\t\\t\\t\\t\\t\\t\\t\\t\\t\\t\\t\\t\\t\\t\\t\\t\\t\\t\\t\\t\\t\\t\\t\\t\\t\\t\\t\\t\\t\\t\\t\\t\\t\\t\\t\\t\\t\\t', '지역', '\\t\\t\\t\\t\\t\\t\\t\\t\\t\\t\\t\\t\\t서울 마포구 월드컵북로 175\\t\\t\\t\\t\\t\\t\\t\\t\\t\\t\\t\\t', '\\t\\t\\t\\t\\t\\t\\t\\t\\t\\t\\t\\t\\t02-372-7447\\t\\t\\t\\t\\t\\t\\t\\t\\t\\t\\t\\t', '\\t\\t\\t\\t\\t\\t\\t\\t\\t\\t\\t\\t\\t\\t\\t\\t\\t\\t\\t\\t\\t\\t\\t\\t\\t\\t\\t\\t\\t\\t\\t\\t\\t\\t\\t\\t\\t\\t', '\\t\\t\\t\\t\\t\\t\\t\\t\\t\\t\\t\\t\\t13 \\t\\t\\t\\t\\t\\t\\t\\t\\t\\t\\t\\t\\t0436\\t\\t\\t\\t\\t\\t\\t\\t\\t\\t\\t\\t\\t성암\\t\\t\\t\\t\\t\\t\\t\\t\\t\\t\\t\\t\\t성암\\t\\t\\t\\t\\t\\t\\t\\t\\t\\t\\t\\t\\t004\\t\\t\\t\\t\\t\\t\\t\\t\\t\\t\\t\\t\\t연남\\t\\t\\t\\t\\t\\t\\t\\t\\t\\t\\t\\t\\t지역\\t\\t\\t\\t\\t\\t\\t\\t\\t\\t\\t\\t\\t02-334-7447\\t\\t\\t\\t\\t\\t\\t\\t\\t\\t\\t\\t\\t02-322-8554\\t\\t\\t\\t\\t\\t\\t\\t\\t\\t\\t\\t\\t서울 마포구 동교로27길 45\\t\\t\\t\\t\\t\\t\\t\\t\\t\\t\\t\\t\\t서울\\t\\t\\t\\t\\t\\t\\t\\t\\t\\t\\t\\t\\t마포구\\t\\t\\t\\t\\t\\t\\t\\t\\t\\t\\t\\t\\t0436\\t\\t\\t\\t\\t\\t\\t\\t\\t\\t\\t\\t\\t004\\t\\t\\t\\t\\t\\t\\t\\t\\t\\t\\t\\t\\t\\t\\t\\t\\t\\t\\t\\t\\t\\t\\t\\t\\t\\t\\t\\t\\t\\t\\t\\t\\t\\t\\t\\t\\t\\t\\t1\\t\\t\\t\\t\\t\\t\\t\\t\\t\\t\\t\\t', '\\t\\t\\t\\t\\t\\t\\t\\t\\t\\t\\t\\t\\t\\t\\t\\t\\t\\t\\t\\t\\t\\t\\t\\t\\t\\t\\t성암\\t\\t\\t\\t\\t\\t\\t\\t\\t\\t\\t\\t\\t\\t\\t\\t\\t\\t\\t\\t\\t\\t\\t\\t\\t\\t\\t\\t\\t\\t\\t\\t\\t\\t\\t\\t\\t\\t\\t\\t\\t\\t\\t(연남)\\t\\t\\t\\t\\t\\t\\t\\t\\t\\t\\t\\t\\t\\t\\t\\t\\t\\t\\t\\t\\t\\t\\t\\t\\t\\t\\t\\t\\t\\t\\t\\t\\t\\t\\t\\t\\t\\t\\t\\t\\t\\t\\t\\t\\t\\t\\t\\t\\t\\t\\t\\t\\t\\t\\t\\t\\t\\t\\t\\t\\t\\t\\t\\t\\t\\t\\t\\t\\t\\t\\t\\t\\t\\t\\t\\t\\t\\t\\t\\t\\t\\t\\t\\t\\t\\t\\t\\t\\t\\t\\t\\t\\t\\t\\t', '지역', '\\t\\t\\t\\t\\t\\t\\t\\t\\t\\t\\t\\t\\t서울 마포구 동교로27길 45\\t\\t\\t\\t\\t\\t\\t\\t\\t\\t\\t\\t', '\\t\\t\\t\\t\\t\\t\\t\\t\\t\\t\\t\\t\\t02-334-7447\\t\\t\\t\\t\\t\\t\\t\\t\\t\\t\\t\\t', '\\t\\t\\t\\t\\t\\t\\t\\t\\t\\t\\t\\t\\t\\t\\t\\t\\t\\t\\t\\t\\t\\t\\t\\t\\t\\t\\t\\t\\t\\t\\t\\t\\t\\t\\t\\t\\t\\t', '\\t\\t\\t\\t\\t\\t\\t\\t\\t\\t\\t\\t\\t14 \\t\\t\\t\\t\\t\\t\\t\\t\\t\\t\\t\\t\\t0447\\t\\t\\t\\t\\t\\t\\t\\t\\t\\t\\t\\t\\t마포공덕\\t\\t\\t\\t\\t\\t\\t\\t\\t\\t\\t\\t\\t마포공덕\\t\\t\\t\\t\\t\\t\\t\\t\\t\\t\\t\\t\\t001\\t\\t\\t\\t\\t\\t\\t\\t\\t\\t\\t\\t\\t본점\\t\\t\\t\\t\\t\\t\\t\\t\\t\\t\\t\\t\\t지역\\t\\t\\t\\t\\t\\t\\t\\t\\t\\t\\t\\t\\t02-362-3071\\t\\t\\t\\t\\t\\t\\t\\t\\t\\t\\t\\t\\t02-365-2174\\t\\t\\t\\t\\t\\t\\t\\t\\t\\t\\t\\t\\t서울 마포구 마포대로 236\\t\\t\\t\\t\\t\\t\\t\\t\\t\\t\\t\\t\\t서울\\t\\t\\t\\t\\t\\t\\t\\t\\t\\t\\t\\t\\t마포구\\t\\t\\t\\t\\t\\t\\t\\t\\t\\t\\t\\t\\t0447\\t\\t\\t\\t\\t\\t\\t\\t\\t\\t\\t\\t\\t001\\t\\t\\t\\t\\t\\t\\t\\t\\t\\t\\t\\t\\t\\t\\t\\t\\t\\t\\t\\t\\t\\t\\t\\t\\t\\t\\t\\t\\t\\t\\t\\t\\t\\t\\t\\t\\t\\t\\t1\\t\\t\\t\\t\\t\\t\\t\\t\\t\\t\\t\\t', '\\t\\t\\t\\t\\t\\t\\t\\t\\t\\t\\t\\t\\t\\t\\t\\t\\t\\t\\t\\t\\t\\t\\t\\t\\t\\t\\t마포공덕\\t\\t\\t\\t\\t\\t\\t\\t\\t\\t\\t\\t\\t\\t\\t\\t\\t\\t\\t\\t\\t\\t\\t\\t\\t\\t\\t\\t\\t\\t\\t\\t\\t\\t\\t\\t\\t\\t\\t\\t\\t\\t\\t(본점)\\t\\t\\t\\t\\t\\t\\t\\t\\t\\t\\t\\t\\t\\t\\t\\t\\t\\t\\t\\t\\t\\t\\t\\t\\t\\t\\t\\t\\t\\t\\t\\t\\t\\t\\t\\t\\t\\t\\t\\t\\t\\t\\t\\t\\t\\t\\t\\t\\t\\t\\t\\t\\t\\t\\t\\t\\t\\t\\t\\t\\t\\t\\t\\t\\t\\t\\t\\t\\t\\t\\t\\t\\t\\t\\t\\t\\t\\t\\t\\t\\t\\t\\t\\t\\t\\t\\t\\t\\t\\t\\t\\t\\t\\t\\t', '지역', '\\t\\t\\t\\t\\t\\t\\t\\t\\t\\t\\t\\t\\t서울 마포구 마포대로 236\\t\\t\\t\\t\\t\\t\\t\\t\\t\\t\\t\\t', '\\t\\t\\t\\t\\t\\t\\t\\t\\t\\t\\t\\t\\t02-362-3071\\t\\t\\t\\t\\t\\t\\t\\t\\t\\t\\t\\t', '\\t\\t\\t\\t\\t\\t\\t\\t\\t\\t\\t\\t\\t\\t\\t\\t\\t\\t\\t\\t\\t\\t\\t\\t\\t\\t\\t\\t\\t\\t\\t\\t\\t\\t\\t\\t\\t\\t', '\\t\\t\\t\\t\\t\\t\\t\\t\\t\\t\\t\\t\\t15 \\t\\t\\t\\t\\t\\t\\t\\t\\t\\t\\t\\t\\t0447\\t\\t\\t\\t\\t\\t\\t\\t\\t\\t\\t\\t\\t마포공덕\\t\\t\\t\\t\\t\\t\\t\\t\\t\\t\\t\\t\\t마포공덕\\t\\t\\t\\t\\t\\t\\t\\t\\t\\t\\t\\t\\t002\\t\\t\\t\\t\\t\\t\\t\\t\\t\\t\\t\\t\\t공덕\\t\\t\\t\\t\\t\\t\\t\\t\\t\\t\\t\\t\\t지역\\t\\t\\t\\t\\t\\t\\t\\t\\t\\t\\t\\t\\t02-711-2711\\t\\t\\t\\t\\t\\t\\t\\t\\t\\t\\t\\t\\t02-711-2712\\t\\t\\t\\t\\t\\t\\t\\t\\t\\t\\t\\t\\t서울 마포구 마포대로14길 20\\t\\t\\t\\t\\t\\t\\t\\t\\t\\t\\t\\t\\t서울\\t\\t\\t\\t\\t\\t\\t\\t\\t\\t\\t\\t\\t마포구\\t\\t\\t\\t\\t\\t\\t\\t\\t\\t\\t\\t\\t0447\\t\\t\\t\\t\\t\\t\\t\\t\\t\\t\\t\\t\\t002\\t\\t\\t\\t\\t\\t\\t\\t\\t\\t\\t\\t\\t\\t\\t\\t\\t\\t\\t\\t\\t\\t\\t\\t\\t\\t\\t\\t\\t\\t\\t\\t\\t\\t\\t\\t\\t\\t\\t1\\t\\t\\t\\t\\t\\t\\t\\t\\t\\t\\t\\t', '\\t\\t\\t\\t\\t\\t\\t\\t\\t\\t\\t\\t\\t\\t\\t\\t\\t\\t\\t\\t\\t\\t\\t\\t\\t\\t\\t마포공덕\\t\\t\\t\\t\\t\\t\\t\\t\\t\\t\\t\\t\\t\\t\\t\\t\\t\\t\\t\\t\\t\\t\\t\\t\\t\\t\\t\\t\\t\\t\\t\\t\\t\\t\\t\\t\\t\\t\\t\\t\\t\\t\\t(공덕)\\t\\t\\t\\t\\t\\t\\t\\t\\t\\t\\t\\t\\t\\t\\t\\t\\t\\t\\t\\t\\t\\t\\t\\t\\t\\t\\t\\t\\t\\t\\t\\t\\t\\t\\t\\t\\t\\t\\t\\t\\t\\t\\t\\t\\t\\t\\t\\t\\t\\t\\t\\t\\t\\t\\t\\t\\t\\t\\t\\t\\t\\t\\t\\t\\t\\t\\t\\t\\t\\t\\t\\t\\t\\t\\t\\t\\t\\t\\t\\t\\t\\t\\t\\t\\t\\t\\t\\t\\t\\t\\t\\t\\t\\t\\t', '지역', '\\t\\t\\t\\t\\t\\t\\t\\t\\t\\t\\t\\t\\t서울 마포구 마포대로14길 20\\t\\t\\t\\t\\t\\t\\t\\t\\t\\t\\t\\t', '\\t\\t\\t\\t\\t\\t\\t\\t\\t\\t\\t\\t\\t02-711-2711\\t\\t\\t\\t\\t\\t\\t\\t\\t\\t\\t\\t', '\\t\\t\\t\\t\\t\\t\\t\\t\\t\\t\\t\\t\\t\\t\\t\\t\\t\\t\\t\\t\\t\\t\\t\\t\\t\\t\\t\\t\\t\\t\\t\\t\\t\\t\\t\\t\\t\\t', '\\t\\t\\t\\t\\t\\t\\t\\t\\t\\t\\t\\t\\t16 \\t\\t\\t\\t\\t\\t\\t\\t\\t\\t\\t\\t\\t0833\\t\\t\\t\\t\\t\\t\\t\\t\\t\\t\\t\\t\\t문화방송\\t\\t\\t\\t\\t\\t\\t\\t\\t\\t\\t\\t\\t문화방송\\t\\t\\t\\t\\t\\t\\t\\t\\t\\t\\t\\t\\t001\\t\\t\\t\\t\\t\\t\\t\\t\\t\\t\\t\\t\\t본점\\t\\t\\t\\t\\t\\t\\t\\t\\t\\t\\t\\t\\t직장\\t\\t\\t\\t\\t\\t\\t\\t\\t\\t\\t\\t\\t02-789-4753\\t\\t\\t\\t\\t\\t\\t\\t\\t\\t\\t\\t\\t02-789-4750\\t\\t\\t\\t\\t\\t\\t\\t\\t\\t\\t\\t\\t서울 마포구 성암로 267\\t\\t\\t\\t\\t\\t\\t\\t\\t\\t\\t\\t\\t서울\\t\\t\\t\\t\\t\\t\\t\\t\\t\\t\\t\\t\\t마포구\\t\\t\\t\\t\\t\\t\\t\\t\\t\\t\\t\\t\\t0833\\t\\t\\t\\t\\t\\t\\t\\t\\t\\t\\t\\t\\t001\\t\\t\\t\\t\\t\\t\\t\\t\\t\\t\\t\\t\\t\\t\\t\\t\\t\\t\\t\\t\\t\\t\\t\\t\\t\\t\\t\\t\\t\\t\\t\\t\\t\\t\\t\\t\\t\\t\\t1\\t\\t\\t\\t\\t\\t\\t\\t\\t\\t\\t\\t', '\\t\\t\\t\\t\\t\\t\\t\\t\\t\\t\\t\\t\\t\\t\\t\\t\\t\\t\\t\\t\\t\\t\\t\\t\\t\\t\\t문화방송\\t\\t\\t\\t\\t\\t\\t\\t\\t\\t\\t\\t\\t\\t\\t\\t\\t\\t\\t\\t\\t\\t\\t\\t\\t\\t\\t\\t\\t\\t\\t\\t\\t\\t\\t\\t\\t\\t\\t\\t\\t\\t\\t(본점)\\t\\t\\t\\t\\t\\t\\t\\t\\t\\t\\t\\t\\t\\t\\t\\t\\t\\t\\t\\t\\t\\t\\t\\t\\t\\t\\t\\t\\t\\t\\t\\t\\t\\t\\t\\t\\t\\t\\t\\t\\t\\t\\t\\t\\t\\t\\t\\t\\t\\t\\t\\t\\t\\t\\t\\t\\t\\t\\t\\t\\t\\t\\t\\t\\t\\t\\t\\t\\t\\t\\t\\t\\t\\t\\t\\t\\t\\t\\t\\t\\t\\t\\t\\t\\t\\t\\t\\t\\t\\t\\t\\t\\t\\t\\t', '직장', '\\t\\t\\t\\t\\t\\t\\t\\t\\t\\t\\t\\t\\t서울 마포구 성암로 267\\t\\t\\t\\t\\t\\t\\t\\t\\t\\t\\t\\t', '\\t\\t\\t\\t\\t\\t\\t\\t\\t\\t\\t\\t\\t02-789-4753\\t\\t\\t\\t\\t\\t\\t\\t\\t\\t\\t\\t', '\\t\\t\\t\\t\\t\\t\\t\\t\\t\\t\\t\\t\\t\\t\\t\\t\\t\\t\\t\\t\\t\\t\\t\\t\\t\\t\\t\\t\\t\\t\\t\\t\\t\\t\\t\\t\\t\\t', '\\t\\t\\t\\t\\t\\t\\t\\t\\t\\t\\t\\t\\t17 \\t\\t\\t\\t\\t\\t\\t\\t\\t\\t\\t\\t\\t1039\\t\\t\\t\\t\\t\\t\\t\\t\\t\\t\\t\\t\\t서울개인택시조합\\t\\t\\t\\t\\t\\t\\t\\t\\t\\t\\t\\t\\t서울개인택시조합\\t\\t\\t\\t\\t\\t\\t\\t\\t\\t\\t\\t\\t016\\t\\t\\t\\t\\t\\t\\t\\t\\t\\t\\t\\t\\t용마\\t\\t\\t\\t\\t\\t\\t\\t\\t\\t\\t\\t\\t지역\\t\\t\\t\\t\\t\\t\\t\\t\\t\\t\\t\\t\\t02-718-1313\\t\\t\\t\\t\\t\\t\\t\\t\\t\\t\\t\\t\\t02-715-1608\\t\\t\\t\\t\\t\\t\\t\\t\\t\\t\\t\\t\\t서울 마포구 희우정로 76\\t\\t\\t\\t\\t\\t\\t\\t\\t\\t\\t\\t\\t서울\\t\\t\\t\\t\\t\\t\\t\\t\\t\\t\\t\\t\\t마포구\\t\\t\\t\\t\\t\\t\\t\\t\\t\\t\\t\\t\\t1039\\t\\t\\t\\t\\t\\t\\t\\t\\t\\t\\t\\t\\t016\\t\\t\\t\\t\\t\\t\\t\\t\\t\\t\\t\\t\\t\\t\\t\\t\\t\\t\\t\\t\\t\\t\\t\\t\\t\\t\\t\\t\\t\\t\\t\\t\\t\\t\\t\\t\\t\\t\\t1\\t\\t\\t\\t\\t\\t\\t\\t\\t\\t\\t\\t', '\\t\\t\\t\\t\\t\\t\\t\\t\\t\\t\\t\\t\\t\\t\\t\\t\\t\\t\\t\\t\\t\\t\\t\\t\\t\\t\\t서울개인택시조합\\t\\t\\t\\t\\t\\t\\t\\t\\t\\t\\t\\t\\t\\t\\t\\t\\t\\t\\t\\t\\t\\t\\t\\t\\t\\t\\t\\t\\t\\t\\t\\t\\t\\t\\t\\t\\t\\t\\t\\t\\t\\t\\t(용마)\\t\\t\\t\\t\\t\\t\\t\\t\\t\\t\\t\\t\\t\\t\\t\\t\\t\\t\\t\\t\\t\\t\\t\\t\\t\\t\\t\\t\\t\\t\\t\\t\\t\\t\\t\\t\\t\\t\\t\\t\\t\\t\\t\\t\\t\\t\\t\\t\\t\\t\\t\\t\\t\\t\\t\\t\\t\\t\\t\\t\\t\\t\\t\\t\\t\\t\\t\\t\\t\\t\\t\\t\\t\\t\\t\\t\\t\\t\\t\\t\\t\\t\\t\\t\\t\\t\\t\\t\\t\\t\\t\\t\\t\\t\\t', '지역', '\\t\\t\\t\\t\\t\\t\\t\\t\\t\\t\\t\\t\\t서울 마포구 희우정로 76\\t\\t\\t\\t\\t\\t\\t\\t\\t\\t\\t\\t', '\\t\\t\\t\\t\\t\\t\\t\\t\\t\\t\\t\\t\\t02-718-1313\\t\\t\\t\\t\\t\\t\\t\\t\\t\\t\\t\\t', '\\t\\t\\t\\t\\t\\t\\t\\t\\t\\t\\t\\t\\t\\t\\t\\t\\t\\t\\t\\t\\t\\t\\t\\t\\t\\t\\t\\t\\t\\t\\t\\t\\t\\t\\t\\t\\t\\t']\n",
      "-------------------------current page is 0--------------------------\n"
     ]
    },
    {
     "ename": "WebDriverException",
     "evalue": "Message: chrome not reachable\n  (Session info: chrome=105.0.5195.102)\n",
     "output_type": "error",
     "traceback": [
      "\u001b[1;31m---------------------------------------------------------------------------\u001b[0m",
      "\u001b[1;31mWebDriverException\u001b[0m                        Traceback (most recent call last)",
      "Input \u001b[1;32mIn [19]\u001b[0m, in \u001b[0;36m<cell line: 19>\u001b[1;34m()\u001b[0m\n\u001b[0;32m     50\u001b[0m     time\u001b[38;5;241m.\u001b[39msleep(\u001b[38;5;241m2\u001b[39m)\n\u001b[0;32m     52\u001b[0m     \u001b[38;5;66;03m#메인으로 돌아감\u001b[39;00m\n\u001b[1;32m---> 53\u001b[0m     \u001b[43mdriver\u001b[49m\u001b[38;5;241;43m.\u001b[39;49m\u001b[43mfind_element\u001b[49m\u001b[43m(\u001b[49m\u001b[43mBy\u001b[49m\u001b[38;5;241;43m.\u001b[39;49m\u001b[43mXPATH\u001b[49m\u001b[43m,\u001b[49m\u001b[38;5;124;43m'\u001b[39;49m\u001b[38;5;124;43m/html/body/div/div/div[3]/div/div/div[1]/div[1]/a[1]\u001b[39;49m\u001b[38;5;124;43m'\u001b[39;49m\u001b[43m)\u001b[49m\u001b[38;5;241m.\u001b[39mclick()\n\u001b[0;32m     56\u001b[0m driver\u001b[38;5;241m.\u001b[39mquit()\n",
      "File \u001b[1;32m~\\anaconda3\\lib\\site-packages\\selenium\\webdriver\\remote\\webdriver.py:976\u001b[0m, in \u001b[0;36mWebDriver.find_element\u001b[1;34m(self, by, value)\u001b[0m\n\u001b[0;32m    974\u001b[0m         by \u001b[38;5;241m=\u001b[39m By\u001b[38;5;241m.\u001b[39mCSS_SELECTOR\n\u001b[0;32m    975\u001b[0m         value \u001b[38;5;241m=\u001b[39m \u001b[38;5;124m'\u001b[39m\u001b[38;5;124m[name=\u001b[39m\u001b[38;5;124m\"\u001b[39m\u001b[38;5;132;01m%s\u001b[39;00m\u001b[38;5;124m\"\u001b[39m\u001b[38;5;124m]\u001b[39m\u001b[38;5;124m'\u001b[39m \u001b[38;5;241m%\u001b[39m value\n\u001b[1;32m--> 976\u001b[0m \u001b[38;5;28;01mreturn\u001b[39;00m \u001b[38;5;28;43mself\u001b[39;49m\u001b[38;5;241;43m.\u001b[39;49m\u001b[43mexecute\u001b[49m\u001b[43m(\u001b[49m\u001b[43mCommand\u001b[49m\u001b[38;5;241;43m.\u001b[39;49m\u001b[43mFIND_ELEMENT\u001b[49m\u001b[43m,\u001b[49m\u001b[43m \u001b[49m\u001b[43m{\u001b[49m\n\u001b[0;32m    977\u001b[0m \u001b[43m    \u001b[49m\u001b[38;5;124;43m'\u001b[39;49m\u001b[38;5;124;43musing\u001b[39;49m\u001b[38;5;124;43m'\u001b[39;49m\u001b[43m:\u001b[49m\u001b[43m \u001b[49m\u001b[43mby\u001b[49m\u001b[43m,\u001b[49m\n\u001b[0;32m    978\u001b[0m \u001b[43m    \u001b[49m\u001b[38;5;124;43m'\u001b[39;49m\u001b[38;5;124;43mvalue\u001b[39;49m\u001b[38;5;124;43m'\u001b[39;49m\u001b[43m:\u001b[49m\u001b[43m \u001b[49m\u001b[43mvalue\u001b[49m\u001b[43m}\u001b[49m\u001b[43m)\u001b[49m[\u001b[38;5;124m'\u001b[39m\u001b[38;5;124mvalue\u001b[39m\u001b[38;5;124m'\u001b[39m]\n",
      "File \u001b[1;32m~\\anaconda3\\lib\\site-packages\\selenium\\webdriver\\remote\\webdriver.py:321\u001b[0m, in \u001b[0;36mWebDriver.execute\u001b[1;34m(self, driver_command, params)\u001b[0m\n\u001b[0;32m    319\u001b[0m response \u001b[38;5;241m=\u001b[39m \u001b[38;5;28mself\u001b[39m\u001b[38;5;241m.\u001b[39mcommand_executor\u001b[38;5;241m.\u001b[39mexecute(driver_command, params)\n\u001b[0;32m    320\u001b[0m \u001b[38;5;28;01mif\u001b[39;00m response:\n\u001b[1;32m--> 321\u001b[0m     \u001b[38;5;28;43mself\u001b[39;49m\u001b[38;5;241;43m.\u001b[39;49m\u001b[43merror_handler\u001b[49m\u001b[38;5;241;43m.\u001b[39;49m\u001b[43mcheck_response\u001b[49m\u001b[43m(\u001b[49m\u001b[43mresponse\u001b[49m\u001b[43m)\u001b[49m\n\u001b[0;32m    322\u001b[0m     response[\u001b[38;5;124m'\u001b[39m\u001b[38;5;124mvalue\u001b[39m\u001b[38;5;124m'\u001b[39m] \u001b[38;5;241m=\u001b[39m \u001b[38;5;28mself\u001b[39m\u001b[38;5;241m.\u001b[39m_unwrap_value(\n\u001b[0;32m    323\u001b[0m         response\u001b[38;5;241m.\u001b[39mget(\u001b[38;5;124m'\u001b[39m\u001b[38;5;124mvalue\u001b[39m\u001b[38;5;124m'\u001b[39m, \u001b[38;5;28;01mNone\u001b[39;00m))\n\u001b[0;32m    324\u001b[0m     \u001b[38;5;28;01mreturn\u001b[39;00m response\n",
      "File \u001b[1;32m~\\anaconda3\\lib\\site-packages\\selenium\\webdriver\\remote\\errorhandler.py:242\u001b[0m, in \u001b[0;36mErrorHandler.check_response\u001b[1;34m(self, response)\u001b[0m\n\u001b[0;32m    240\u001b[0m         alert_text \u001b[38;5;241m=\u001b[39m value[\u001b[38;5;124m'\u001b[39m\u001b[38;5;124malert\u001b[39m\u001b[38;5;124m'\u001b[39m]\u001b[38;5;241m.\u001b[39mget(\u001b[38;5;124m'\u001b[39m\u001b[38;5;124mtext\u001b[39m\u001b[38;5;124m'\u001b[39m)\n\u001b[0;32m    241\u001b[0m     \u001b[38;5;28;01mraise\u001b[39;00m exception_class(message, screen, stacktrace, alert_text)\n\u001b[1;32m--> 242\u001b[0m \u001b[38;5;28;01mraise\u001b[39;00m exception_class(message, screen, stacktrace)\n",
      "\u001b[1;31mWebDriverException\u001b[0m: Message: chrome not reachable\n  (Session info: chrome=105.0.5195.102)\n"
     ]
    }
   ],
   "source": [
    "driver= webdriver.Chrome(\"chromedriver\")\n",
    "\n",
    "driver.get('https://www.kfcc.co.kr/map/main.do')\n",
    "driver.find_element(By.XPATH,xpath).click()\n",
    "\n",
    "#새로 저장할 문자열\n",
    "td_list=[]\n",
    "\n",
    "#서울 도봉구\n",
    "page = 1\n",
    "\n",
    "# full xpath\n",
    "# /html/body/div/div/div[3]/div[2]/div[2]/ul/li[1]/a\n",
    "\n",
    "# xpath\n",
    "# //*[@id=\"main_right\"]/div[2]/ul/li[{0}]/a\n",
    "\n",
    "\n",
    "while page < 26:   \n",
    "    time.sleep(2)\n",
    "    \n",
    "    xpath = '/html/body/div/div/div[3]/div[2]/div[2]/ul/li[{0}]/a'.format(page)\n",
    "    \n",
    "    ## 테이블\n",
    "    # tbody = driver.find_element_by_tag_name(\"tbody\")\n",
    "    \n",
    "    #mCSB_1_container > div.table-box > div.tblWrap > table > tbody\n",
    "    \n",
    "    #tbody = driver.find_element(By.XPATH, '//*[@id=\"mCSB_1_container\"]/div[3]/div[1]/table/tbody')\n",
    "    tbody = driver.find_element_by_tag_name(\"tbody\")\n",
    "    \n",
    "    # tbody > tr >td\n",
    "    for tr in tbody.find_elements_by_tag_name(\"tr\"):\n",
    "        for td in tr.find_elements_by_tag_name(\"td\"):\n",
    "            swap = td.get_attribute(\"innerText\")\n",
    "            swap = re.sub('\\n','',swap) #필요없는 문자 제거\n",
    "            swap = re.sub('[위치]','',swap)\n",
    "            swap = re.sub('[금리]','',swap)\n",
    "            td_list.append(swap) #저장\n",
    "\n",
    "    # 확인        \n",
    "    print(td_list)\n",
    "\n",
    "\n",
    "\n",
    "\n",
    "    # 현재페이지 표시 후 다음페이지\n",
    "    print(\"-------------------------current page is {0}--------------------------\".format(page))\n",
    "    page += 1\n",
    "    time.sleep(2)\n",
    "\n",
    "    #메인으로 돌아감\n",
    "    driver.find_element(By.XPATH,'/html/body/div/div/div[3]/div/div/div[1]/div[1]/a[1]').click()\n",
    "\n",
    "    \n",
    "driver.quit()\n",
    "    #/html/body/div/div/div[3]/div/div/div[1]/div[1]/a[1]\n",
    "    #//*[@id=\"mCSB_1_container\"]/div[1]/a[1]"
   ]
  },
  {
   "cell_type": "code",
   "execution_count": null,
   "id": "7cad7c3c-c1e3-4466-a493-b22a575b7f0e",
   "metadata": {},
   "outputs": [],
   "source": []
  },
  {
   "cell_type": "code",
   "execution_count": null,
   "id": "edc9069c-a9b1-4a32-8d2f-d60a3f6fb37e",
   "metadata": {},
   "outputs": [],
   "source": []
  }
 ],
 "metadata": {
  "kernelspec": {
   "display_name": "Python 3 (ipykernel)",
   "language": "python",
   "name": "python3"
  },
  "language_info": {
   "codemirror_mode": {
    "name": "ipython",
    "version": 3
   },
   "file_extension": ".py",
   "mimetype": "text/x-python",
   "name": "python",
   "nbconvert_exporter": "python",
   "pygments_lexer": "ipython3",
   "version": "3.9.12"
  }
 },
 "nbformat": 4,
 "nbformat_minor": 5
}
