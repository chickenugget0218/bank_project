{
 "cells": [
  {
   "cell_type": "code",
   "execution_count": 18,
   "id": "8934fcc5-7fd5-475e-8537-d866fb92f8b1",
   "metadata": {},
   "outputs": [],
   "source": [
    "from selenium import webdriver\n",
    "from selenium.webdriver.common.keys import Keys\n",
    "from selenium.webdriver.common.by import By\n",
    "import time\n",
    "import pandas as pd\n",
    "import re"
   ]
  },
  {
   "cell_type": "code",
   "execution_count": null,
   "id": "aefa07c2-dbd1-41a0-9003-63bc00738d86",
   "metadata": {},
   "outputs": [],
   "source": [
    "# 경기\n",
    "gg = ['김포시','파주시','연천군','고양시','양주시','동두천','포천시','의정부','남양주시','구리시',\n",
    "      '가평군','하남시','부천시','광명시','시흥시','안산시','안양시','과천시','군포시','의왕시',\n",
    "      '성남시','광주시','양평군','화성시','수원시','오산시','용인시','이천시','여주시','평택시','안성시']"
   ]
  },
  {
   "cell_type": "code",
   "execution_count": null,
   "id": "6ace6169-9d7f-401e-b66e-261562abf9f7",
   "metadata": {},
   "outputs": [],
   "source": [
    "# 강원\n",
    "gw =['철원군','화천군','양구군','춘천시','인제군','고성군','속초시','양양군','홍천군','강릉시','원주시','횡성군','평창군','영월군','정선군','동해시','삼척시','태백시']\n",
    "\n",
    "#인천\n",
    "in =['강화군','서구','동구','중구','미추홀구','연수구','계양구','부평구','남동구']"
   ]
  },
  {
   "cell_type": "code",
   "execution_count": null,
   "id": "aa7b048c-f010-4f6f-9f30-a9fe8bafdb21",
   "metadata": {},
   "outputs": [],
   "source": [
    "#충북\n",
    "청주시진천군음성군충주시제천시청원군괴산군단양군보은군옥천군영동군증평군\n",
    "\n",
    "# 충남\n",
    "태안군서산시당진시홍성군예산군아산시천안시보령시청양군공주시연기군서천군부여군논산시금산군\n",
    "\n",
    "# 대전\n",
    "유성구대덕구서구중구동구\n",
    "\n",
    "세종\n",
    "세종시"
   ]
  },
  {
   "cell_type": "code",
   "execution_count": null,
   "id": "c56b201a-12d2-4871-968b-d52f01a3ca7e",
   "metadata": {},
   "outputs": [],
   "source": [
    "전북\n",
    "\n",
    "군산시익산시부안군김제시완주군전주시고창군정읍시순창군임실군진안군무주군남원시장수군\n",
    "\n",
    "전남\n",
    "영광군장성군담양군함평군신안군무안군나주시화순군곡성군구례군목포시영암군진도군해남군강진군장흥군보성군순천시완도군고흥군여수시광양시\n",
    "\n",
    "광주\n",
    "광산구북구서구남구동구"
   ]
  },
  {
   "cell_type": "code",
   "execution_count": null,
   "id": "963ef5c2-41f3-46b9-9e92-8106cceded2e",
   "metadata": {},
   "outputs": [],
   "source": [
    "제주\n",
    "\n",
    "제주시서귀포시"
   ]
  },
  {
   "cell_type": "code",
   "execution_count": null,
   "id": "bfe5da59-95df-481a-a88d-68bae01c2669",
   "metadata": {},
   "outputs": [],
   "source": [
    "경북 \n",
    "\n",
    "문경시예천군영주시봉화군울진군상주시의성군안동시영양군김천시구미시군위군청송군영덕군성주군칠곡군영천시포항시고령군경산시경주시청도군울릉군\n",
    "\n",
    "경남 \n",
    "\n",
    "함양군거창군산청군합천군하동군진주시의령군함안군창녕군남해군사천시고성군마산시창원시밀양시통영시거제시진해시김해시양산시"
   ]
  },
  {
   "cell_type": "code",
   "execution_count": null,
   "id": "ab0c0de3-9e81-4a3e-b38f-f7f3711e341b",
   "metadata": {},
   "outputs": [],
   "source": [
    "대구 \n",
    "\n",
    "서구북구동구달서구중구남구수성구달성군\n",
    "\n",
    "울산 \n",
    "\n",
    "울주군북구중구남구동구"
   ]
  },
  {
   "cell_type": "code",
   "execution_count": null,
   "id": "1d32b5ea-e6c1-4d54-9436-b1d2dac75d20",
   "metadata": {},
   "outputs": [],
   "source": [
    "부산 \n",
    "\n",
    "강서구북구금정구기장군사상구부산진구연제구동래구사하구서구중구동구남구수영구해운대구영도구"
   ]
  },
  {
   "cell_type": "code",
   "execution_count": 211,
   "id": "c3969be1-ed98-4051-96d6-2715410dc6aa",
   "metadata": {},
   "outputs": [
    {
     "name": "stdout",
     "output_type": "stream",
     "text": [
      "['이랜드(본점)', '독산1동(본점)', '독산1동(제1)', '금천서부(본점)', '독산동(본점)', '독산동(독산동제1)', '금천남부(본점)', '금천남부(시흥3동)', '금천남부(시흥5동)', '시흥(본점)', '시흥(시흥제1)']\n",
      "['직장', '지역', '지역', '지역', '지역', '지역', '지역', '지역', '지역', '지역', '지역']\n",
      "['서울 금천구 가산디지털1로 159', '서울 금천구 가산로 52', '서울 금천구 범안로 1203', '서울 금천구 독산로 192', '서울 금천구 독산로 323', '서울 금천구 독산로85길 36', '서울 금천구 금하로 750', '서울 금천구 시흥대로20길 5', '서울 금천구 탑골로 11', '서울 금천구 금하로 643', '서울 금천구 독산로 140-1']\n",
      "['02-2029-9990', '02-853-2748', '02-891-7273', '02-804-4622', '02-854-1136', '02-6951-1134', '02-896-0411', '02-896-8214', '02-896-0414', '02-891-1330', '02-891-1336']\n"
     ]
    }
   ],
   "source": [
    "# 구 바꾸면서 넣기 - 구단위로 데이터 수집함\n",
    "\n",
    "sido = '서울'\n",
    "gu = '금천구'\n",
    "\n",
    "gus = ['도봉구','마포구','관악구','강북구','용산구','서초구',\n",
    "        '노원구','성동구','강남구','성북구','광진구','송파구',\n",
    "        '은평구','강서구','강동구','종로구','양천구','중랑구',\n",
    "        '영등포구','서대문구','구로구','동대문구','동작구','중구','금천구']\n",
    "\n",
    "\n",
    "url = f'https://www.kfcc.co.kr/map/list.do?r1={sido}&r2={gu}'\n",
    "\n",
    "# 크롬드라이버 설정\n",
    "driver= webdriver.Chrome(\"chromedriver\")\n",
    "driver.maximize_window() #창 크기 최대화\n",
    "driver.get(url)\n",
    "\n",
    "time.sleep(1)\n",
    "\n",
    "# table 을 불러올 때 전체 테이블의 full xpath 주소\n",
    "table = driver.find_element_by_xpath(\"/html/body/div/div/div[3]/div/div/div[1]/div[3]/div[1]/table\")\n",
    "\n",
    "tbody = table.find_element_by_tag_name(\"tbody\")\n",
    "rows = tbody.find_elements_by_tag_name(\"tr\")\n",
    "\n",
    "\n",
    "## 리스트 -> df화 -> 구단위별 새마을금고\n",
    "\n",
    "name_list=[]\n",
    "category_list=[]\n",
    "address_list=[]\n",
    "tel_list=[]\n",
    "\n",
    "for index, value in enumerate(rows):\n",
    "    name = value.find_elements_by_tag_name(\"td\")[1].get_attribute('innerText')\n",
    "    category = value.find_elements_by_tag_name(\"td\")[2].get_attribute('innerText')\n",
    "    address = value.find_elements_by_tag_name(\"td\")[3].get_attribute('innerText')\n",
    "    tel = value.find_elements_by_tag_name(\"td\")[4].get_attribute('innerText')\n",
    "    \n",
    "    ## 문자열 처리\n",
    "    name = name.replace('\\n','') #공백 제거\n",
    "    name = name.replace('\\t','') #공백 제거\n",
    "    address = address.replace('\\n','') #공백 제거\n",
    "    address = address.replace('\\t','') #공백 제거\n",
    "    tel = tel.replace('\\n','')\n",
    "    tel = tel.replace('\\t','') #공백 제거\n",
    "    \n",
    "    \n",
    "    #print(name) #잘 찍히는지 확인\n",
    "    \n",
    "    name_list.append(name)\n",
    "    category_list.append(category)\n",
    "    address_list.append(address)\n",
    "    tel_list.append(tel)\n",
    "    \n",
    "print(name_list)\n",
    "print(category_list)\n",
    "print(address_list)\n",
    "print(tel_list)\n",
    "\n",
    "driver.quit()"
   ]
  },
  {
   "cell_type": "markdown",
   "id": "be86cc43-25c1-4b52-a03e-1d9fcf8eeb74",
   "metadata": {},
   "source": [
    "## 원소 개수 맞는지 확인"
   ]
  },
  {
   "cell_type": "code",
   "execution_count": 168,
   "id": "93b2ff02-b43c-46bf-9a64-a4b3c23c36dc",
   "metadata": {},
   "outputs": [
    {
     "data": {
      "text/plain": [
       "18"
      ]
     },
     "execution_count": 168,
     "metadata": {},
     "output_type": "execute_result"
    }
   ],
   "source": [
    "len(name_list)"
   ]
  },
  {
   "cell_type": "code",
   "execution_count": 122,
   "id": "8138e5da-3f20-4b1a-9781-143061d75256",
   "metadata": {},
   "outputs": [
    {
     "data": {
      "text/plain": [
       "17"
      ]
     },
     "execution_count": 122,
     "metadata": {},
     "output_type": "execute_result"
    }
   ],
   "source": [
    "len(name_list)"
   ]
  },
  {
   "cell_type": "code",
   "execution_count": 123,
   "id": "f1c53be1-b006-4e9d-88f5-7fa198272e77",
   "metadata": {},
   "outputs": [
    {
     "data": {
      "text/plain": [
       "17"
      ]
     },
     "execution_count": 123,
     "metadata": {},
     "output_type": "execute_result"
    }
   ],
   "source": [
    "len(category_list)"
   ]
  },
  {
   "cell_type": "code",
   "execution_count": 124,
   "id": "a9e3451b-ee10-483e-96b8-7702e0d0bdfc",
   "metadata": {},
   "outputs": [
    {
     "data": {
      "text/plain": [
       "17"
      ]
     },
     "execution_count": 124,
     "metadata": {},
     "output_type": "execute_result"
    }
   ],
   "source": [
    "len(address_list)"
   ]
  },
  {
   "cell_type": "code",
   "execution_count": 125,
   "id": "43e26140-5303-4b7c-b615-2ca681dbd3b4",
   "metadata": {},
   "outputs": [
    {
     "data": {
      "text/plain": [
       "17"
      ]
     },
     "execution_count": 125,
     "metadata": {},
     "output_type": "execute_result"
    }
   ],
   "source": [
    "len(tel_list)"
   ]
  },
  {
   "cell_type": "code",
   "execution_count": 212,
   "id": "4f69220d-74af-4ab1-8bf2-f0dee2dccd6b",
   "metadata": {},
   "outputs": [
    {
     "data": {
      "text/html": [
       "<div>\n",
       "<style scoped>\n",
       "    .dataframe tbody tr th:only-of-type {\n",
       "        vertical-align: middle;\n",
       "    }\n",
       "\n",
       "    .dataframe tbody tr th {\n",
       "        vertical-align: top;\n",
       "    }\n",
       "\n",
       "    .dataframe thead th {\n",
       "        text-align: right;\n",
       "    }\n",
       "</style>\n",
       "<table border=\"1\" class=\"dataframe\">\n",
       "  <thead>\n",
       "    <tr style=\"text-align: right;\">\n",
       "      <th></th>\n",
       "      <th>name</th>\n",
       "      <th>category</th>\n",
       "      <th>address</th>\n",
       "      <th>tel</th>\n",
       "    </tr>\n",
       "  </thead>\n",
       "  <tbody>\n",
       "    <tr>\n",
       "      <th>0</th>\n",
       "      <td>이랜드(본점)</td>\n",
       "      <td>직장</td>\n",
       "      <td>서울 금천구 가산디지털1로 159</td>\n",
       "      <td>02-2029-9990</td>\n",
       "    </tr>\n",
       "    <tr>\n",
       "      <th>1</th>\n",
       "      <td>독산1동(본점)</td>\n",
       "      <td>지역</td>\n",
       "      <td>서울 금천구 가산로 52</td>\n",
       "      <td>02-853-2748</td>\n",
       "    </tr>\n",
       "    <tr>\n",
       "      <th>2</th>\n",
       "      <td>독산1동(제1)</td>\n",
       "      <td>지역</td>\n",
       "      <td>서울 금천구 범안로 1203</td>\n",
       "      <td>02-891-7273</td>\n",
       "    </tr>\n",
       "    <tr>\n",
       "      <th>3</th>\n",
       "      <td>금천서부(본점)</td>\n",
       "      <td>지역</td>\n",
       "      <td>서울 금천구 독산로 192</td>\n",
       "      <td>02-804-4622</td>\n",
       "    </tr>\n",
       "    <tr>\n",
       "      <th>4</th>\n",
       "      <td>독산동(본점)</td>\n",
       "      <td>지역</td>\n",
       "      <td>서울 금천구 독산로 323</td>\n",
       "      <td>02-854-1136</td>\n",
       "    </tr>\n",
       "  </tbody>\n",
       "</table>\n",
       "</div>"
      ],
      "text/plain": [
       "       name category             address           tel\n",
       "0   이랜드(본점)       직장  서울 금천구 가산디지털1로 159  02-2029-9990\n",
       "1  독산1동(본점)       지역       서울 금천구 가산로 52   02-853-2748\n",
       "2  독산1동(제1)       지역     서울 금천구 범안로 1203   02-891-7273\n",
       "3  금천서부(본점)       지역      서울 금천구 독산로 192   02-804-4622\n",
       "4   독산동(본점)       지역      서울 금천구 독산로 323   02-854-1136"
      ]
     },
     "execution_count": 212,
     "metadata": {},
     "output_type": "execute_result"
    }
   ],
   "source": [
    "df = pd.DataFrame({'name':name_list,\n",
    "                   'category':category_list,\n",
    "                   'address':address_list,'tel':tel_list\n",
    "                  })\n",
    "df.head(5)"
   ]
  },
  {
   "cell_type": "code",
   "execution_count": 213,
   "id": "70ea2477-ff0f-45fb-867e-0acab58231a3",
   "metadata": {},
   "outputs": [],
   "source": [
    "df.to_csv('새마을금고_서울금천구.csv',index=False, encoding='euc-kr')"
   ]
  },
  {
   "cell_type": "code",
   "execution_count": 197,
   "id": "7b82ed7a-5394-4f4d-99f4-318c48c5d2d2",
   "metadata": {},
   "outputs": [
    {
     "data": {
      "text/html": [
       "<div>\n",
       "<style scoped>\n",
       "    .dataframe tbody tr th:only-of-type {\n",
       "        vertical-align: middle;\n",
       "    }\n",
       "\n",
       "    .dataframe tbody tr th {\n",
       "        vertical-align: top;\n",
       "    }\n",
       "\n",
       "    .dataframe thead th {\n",
       "        text-align: right;\n",
       "    }\n",
       "</style>\n",
       "<table border=\"1\" class=\"dataframe\">\n",
       "  <thead>\n",
       "    <tr style=\"text-align: right;\">\n",
       "      <th></th>\n",
       "      <th>name</th>\n",
       "      <th>category</th>\n",
       "      <th>address</th>\n",
       "      <th>tel</th>\n",
       "    </tr>\n",
       "  </thead>\n",
       "  <tbody>\n",
       "    <tr>\n",
       "      <th>11</th>\n",
       "      <td>서서울(본점)</td>\n",
       "      <td>지역</td>\n",
       "      <td>서울 서대문구 응암로 97</td>\n",
       "      <td>02-374-0120</td>\n",
       "    </tr>\n",
       "    <tr>\n",
       "      <th>12</th>\n",
       "      <td>서서울(남가좌)</td>\n",
       "      <td>지역</td>\n",
       "      <td>서울 서대문구 가재울미래로 2</td>\n",
       "      <td>02-374-8054</td>\n",
       "    </tr>\n",
       "    <tr>\n",
       "      <th>13</th>\n",
       "      <td>서서울(DMC)</td>\n",
       "      <td>지역</td>\n",
       "      <td>서울 서대문구 거북골로 84</td>\n",
       "      <td>02-374-0122</td>\n",
       "    </tr>\n",
       "    <tr>\n",
       "      <th>14</th>\n",
       "      <td>명지(본점)</td>\n",
       "      <td>직장</td>\n",
       "      <td>서울 서대문구 거북골로 34</td>\n",
       "      <td>02-376-8011</td>\n",
       "    </tr>\n",
       "    <tr>\n",
       "      <th>15</th>\n",
       "      <td>서울개인택시조합(서대문)</td>\n",
       "      <td>지역</td>\n",
       "      <td>서울 서대문구 응암로 84</td>\n",
       "      <td>02-376-8422</td>\n",
       "    </tr>\n",
       "  </tbody>\n",
       "</table>\n",
       "</div>"
      ],
      "text/plain": [
       "             name category           address          tel\n",
       "11        서서울(본점)       지역    서울 서대문구 응암로 97  02-374-0120\n",
       "12       서서울(남가좌)       지역  서울 서대문구 가재울미래로 2  02-374-8054\n",
       "13       서서울(DMC)       지역   서울 서대문구 거북골로 84  02-374-0122\n",
       "14         명지(본점)       직장   서울 서대문구 거북골로 34  02-376-8011\n",
       "15  서울개인택시조합(서대문)       지역    서울 서대문구 응암로 84  02-376-8422"
      ]
     },
     "execution_count": 197,
     "metadata": {},
     "output_type": "execute_result"
    }
   ],
   "source": [
    "df.tail(5)"
   ]
  }
 ],
 "metadata": {
  "kernelspec": {
   "display_name": "Python 3 (ipykernel)",
   "language": "python",
   "name": "python3"
  },
  "language_info": {
   "codemirror_mode": {
    "name": "ipython",
    "version": 3
   },
   "file_extension": ".py",
   "mimetype": "text/x-python",
   "name": "python",
   "nbconvert_exporter": "python",
   "pygments_lexer": "ipython3",
   "version": "3.9.12"
  }
 },
 "nbformat": 4,
 "nbformat_minor": 5
}
