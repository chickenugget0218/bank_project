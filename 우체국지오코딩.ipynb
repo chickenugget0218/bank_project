{
 "cells": [
  {
   "cell_type": "code",
   "execution_count": 44,
   "id": "17df324c-5dcb-4a63-9391-0cf9d8ce27b2",
   "metadata": {},
   "outputs": [],
   "source": [
    "import time\n",
    "import pandas as pd\n",
    "import numpy as np\n",
    "import requests, json"
   ]
  },
  {
   "cell_type": "code",
   "execution_count": 52,
   "id": "eb021752-7451-4e19-b6b0-54e4ebd75093",
   "metadata": {},
   "outputs": [
    {
     "data": {
      "text/plain": [
       "('37.448330720832', '126.882326488652')"
      ]
     },
     "execution_count": 52,
     "metadata": {},
     "output_type": "execute_result"
    }
   ],
   "source": [
    "final_add = []\n",
    "def get_coordinate(address): # 주소를 입력받음\n",
    "    result = \"\" \n",
    "    address = str(address)\n",
    " \n",
    "    url = 'https://dapi.kakao.com/v2/local/search/address.json?query=' + address # 카카오 api 서버스를 이용하여 접근\n",
    "    rest_api_key = '키' # 사용자 api key\n",
    "    header = {'Authorization': 'KakaoAK ' + rest_api_key} \n",
    "\n",
    "    r = requests.get(url, headers=header) \n",
    " \n",
    "    if r.status_code == 200: # 정보를 오류없이 받아왔다면\n",
    "        if len(r.json()['documents']) != 0: # 길이가 0이 아니라면\n",
    "            try : \n",
    "                result_address = r.json()[\"documents\"][0][\"address\"]\n",
    "                result = (result_address[\"y\"],result_address[\"x\"])  # 좌표 정보에 접근\n",
    "                final_add.append(result)\n",
    "            except:  # 예외처리\n",
    "                result = np.nan\n",
    "            \n",
    "        else: # 길이가 0인경우 na처리\n",
    "            result = np.nan\n",
    "            final_add.append(result)\n",
    "    else:\n",
    "        result = \"ERROR[\" + str(r.status_code) + \"]\"\n",
    "    return result # 좌표를 반환\n",
    "\n",
    "get_coordinate('경기 광명시 소하동 1340-3')"
   ]
  },
  {
   "cell_type": "code",
   "execution_count": 46,
   "id": "478fe6d5-9560-4e40-8cd3-60548cf00d7b",
   "metadata": {},
   "outputs": [],
   "source": [
    "#주소 검색 반복으로 지오코딩적용\n",
    "df = pd.read_csv('전국 우체국 현황_20210630_장위우체국x.csv', encoding ='CP949')"
   ]
  },
  {
   "cell_type": "code",
   "execution_count": 47,
   "id": "4e77c134-1183-4de4-abeb-86437a3c1fc5",
   "metadata": {},
   "outputs": [
    {
     "data": {
      "text/html": [
       "<div>\n",
       "<style scoped>\n",
       "    .dataframe tbody tr th:only-of-type {\n",
       "        vertical-align: middle;\n",
       "    }\n",
       "\n",
       "    .dataframe tbody tr th {\n",
       "        vertical-align: top;\n",
       "    }\n",
       "\n",
       "    .dataframe thead th {\n",
       "        text-align: right;\n",
       "    }\n",
       "</style>\n",
       "<table border=\"1\" class=\"dataframe\">\n",
       "  <thead>\n",
       "    <tr style=\"text-align: right;\">\n",
       "      <th></th>\n",
       "      <th>지방우정청</th>\n",
       "      <th>총괄국명</th>\n",
       "      <th>우체국명</th>\n",
       "      <th>주소(지번)</th>\n",
       "      <th>주소(도로명)</th>\n",
       "      <th>전화번호</th>\n",
       "    </tr>\n",
       "  </thead>\n",
       "  <tbody>\n",
       "    <tr>\n",
       "      <th>0</th>\n",
       "      <td>서울지방우정청</td>\n",
       "      <td>서울중앙우체국</td>\n",
       "      <td>서울중앙우체국</td>\n",
       "      <td>서울특별시 중구 충무로1가 21-1</td>\n",
       "      <td>서울특별시 중구 소공로 70 (층무로1가)</td>\n",
       "      <td>02)6450-1114</td>\n",
       "    </tr>\n",
       "    <tr>\n",
       "      <th>1</th>\n",
       "      <td>서울지방우정청</td>\n",
       "      <td>서울중앙우체국</td>\n",
       "      <td>서울을지로4가우체국</td>\n",
       "      <td>서울특별시 중구 을지로4가 312-1</td>\n",
       "      <td>서울특별시 중구 을지로 154-2 (을지로4가)</td>\n",
       "      <td>02)2273-6505</td>\n",
       "    </tr>\n",
       "    <tr>\n",
       "      <th>2</th>\n",
       "      <td>서울지방우정청</td>\n",
       "      <td>서울중앙우체국</td>\n",
       "      <td>서울태평로우체국</td>\n",
       "      <td>서울특별시 중구 봉래동1가 5-36 우리빌딩 2층</td>\n",
       "      <td>서울특별시 중구 칠패로 42 우리빌딩 2층 (봉래동1가)</td>\n",
       "      <td>02)3783-7025</td>\n",
       "    </tr>\n",
       "    <tr>\n",
       "      <th>3</th>\n",
       "      <td>서울지방우정청</td>\n",
       "      <td>서울중앙우체국</td>\n",
       "      <td>서울퇴계로5가우체국</td>\n",
       "      <td>서울특별시 중구 장충동2가 173-3</td>\n",
       "      <td>서울특별시 중구 퇴계로 270 (장충동2가)</td>\n",
       "      <td>02)2273-6508</td>\n",
       "    </tr>\n",
       "    <tr>\n",
       "      <th>4</th>\n",
       "      <td>서울지방우정청</td>\n",
       "      <td>서울중앙우체국</td>\n",
       "      <td>서울역전우체국</td>\n",
       "      <td>서울특별시 중구 봉래동2가 123</td>\n",
       "      <td>서울특별시 중구 통일로 21 (봉래동2가)</td>\n",
       "      <td>02)757-1140</td>\n",
       "    </tr>\n",
       "  </tbody>\n",
       "</table>\n",
       "</div>"
      ],
      "text/plain": [
       "     지방우정청     총괄국명        우체국명                      주소(지번)   \\\n",
       "0  서울지방우정청  서울중앙우체국     서울중앙우체국          서울특별시 중구 충무로1가 21-1   \n",
       "1  서울지방우정청  서울중앙우체국  서울을지로4가우체국         서울특별시 중구 을지로4가 312-1   \n",
       "2  서울지방우정청  서울중앙우체국    서울태평로우체국  서울특별시 중구 봉래동1가 5-36 우리빌딩 2층   \n",
       "3  서울지방우정청  서울중앙우체국  서울퇴계로5가우체국         서울특별시 중구 장충동2가 173-3   \n",
       "4  서울지방우정청  서울중앙우체국     서울역전우체국           서울특별시 중구 봉래동2가 123   \n",
       "\n",
       "                          주소(도로명)          전화번호   \n",
       "0          서울특별시 중구 소공로 70 (층무로1가)  02)6450-1114  \n",
       "1       서울특별시 중구 을지로 154-2 (을지로4가)  02)2273-6505  \n",
       "2  서울특별시 중구 칠패로 42 우리빌딩 2층 (봉래동1가)  02)3783-7025  \n",
       "3         서울특별시 중구 퇴계로 270 (장충동2가)  02)2273-6508  \n",
       "4          서울특별시 중구 통일로 21 (봉래동2가)   02)757-1140  "
      ]
     },
     "execution_count": 47,
     "metadata": {},
     "output_type": "execute_result"
    }
   ],
   "source": [
    "df.head()"
   ]
  },
  {
   "cell_type": "code",
   "execution_count": 48,
   "id": "34562ede-8a71-4afb-bdbf-2ab058a5ac91",
   "metadata": {},
   "outputs": [
    {
     "data": {
      "text/plain": [
       "Index(['지방우정청', '총괄국명', '우체국명', ' 주소(지번) ', ' 주소(도로명) ', ' 전화번호 '], dtype='object')"
      ]
     },
     "execution_count": 48,
     "metadata": {},
     "output_type": "execute_result"
    }
   ],
   "source": [
    "df.columns"
   ]
  },
  {
   "cell_type": "code",
   "execution_count": 49,
   "id": "f5401de0-b9ce-42fe-b872-7e926360fd18",
   "metadata": {},
   "outputs": [],
   "source": [
    "df.columns =['region_office', 'region_office_name', 'post_name', 'address_old', 'address', 'tel']"
   ]
  },
  {
   "cell_type": "code",
   "execution_count": 50,
   "id": "69fb4448-c861-4770-be01-be11a3e3716b",
   "metadata": {},
   "outputs": [
    {
     "data": {
      "text/plain": [
       "Index(['region_office', 'region_office_name', 'post_name', 'address_old',\n",
       "       'address', 'tel'],\n",
       "      dtype='object')"
      ]
     },
     "execution_count": 50,
     "metadata": {},
     "output_type": "execute_result"
    }
   ],
   "source": [
    "df.columns"
   ]
  },
  {
   "cell_type": "code",
   "execution_count": 53,
   "id": "1a903628-bf29-4dfe-99f6-e4e7c86e541d",
   "metadata": {},
   "outputs": [],
   "source": [
    "xy = []\n",
    "for address in df['address']:\n",
    "    xy.append(get_coordinate(address))\n",
    "\n",
    "df2 = pd.DataFrame(xy, columns =['lat','long'])"
   ]
  },
  {
   "cell_type": "code",
   "execution_count": 54,
   "id": "91a59093-fc1f-4ffe-942e-953730b16e0c",
   "metadata": {},
   "outputs": [
    {
     "data": {
      "text/html": [
       "<div>\n",
       "<style scoped>\n",
       "    .dataframe tbody tr th:only-of-type {\n",
       "        vertical-align: middle;\n",
       "    }\n",
       "\n",
       "    .dataframe tbody tr th {\n",
       "        vertical-align: top;\n",
       "    }\n",
       "\n",
       "    .dataframe thead th {\n",
       "        text-align: right;\n",
       "    }\n",
       "</style>\n",
       "<table border=\"1\" class=\"dataframe\">\n",
       "  <thead>\n",
       "    <tr style=\"text-align: right;\">\n",
       "      <th></th>\n",
       "      <th>lat</th>\n",
       "      <th>long</th>\n",
       "    </tr>\n",
       "  </thead>\n",
       "  <tbody>\n",
       "    <tr>\n",
       "      <th>0</th>\n",
       "      <td>37.5615987374058</td>\n",
       "      <td>126.982169090151</td>\n",
       "    </tr>\n",
       "    <tr>\n",
       "      <th>1</th>\n",
       "      <td>37.5662028147426</td>\n",
       "      <td>126.995163067598</td>\n",
       "    </tr>\n",
       "    <tr>\n",
       "      <th>2</th>\n",
       "      <td>37.5594743747373</td>\n",
       "      <td>126.973559809484</td>\n",
       "    </tr>\n",
       "    <tr>\n",
       "      <th>3</th>\n",
       "      <td>37.5627437974069</td>\n",
       "      <td>127.001652265803</td>\n",
       "    </tr>\n",
       "    <tr>\n",
       "      <th>4</th>\n",
       "      <td>37.5575861021915</td>\n",
       "      <td>126.971400388297</td>\n",
       "    </tr>\n",
       "  </tbody>\n",
       "</table>\n",
       "</div>"
      ],
      "text/plain": [
       "                lat              long\n",
       "0  37.5615987374058  126.982169090151\n",
       "1  37.5662028147426  126.995163067598\n",
       "2  37.5594743747373  126.973559809484\n",
       "3  37.5627437974069  127.001652265803\n",
       "4  37.5575861021915  126.971400388297"
      ]
     },
     "execution_count": 54,
     "metadata": {},
     "output_type": "execute_result"
    }
   ],
   "source": [
    "df2.head()\n",
    "## 우체국이전 등은 제외하였음, 오전오후 바뀌는곳도 제외"
   ]
  },
  {
   "cell_type": "code",
   "execution_count": 55,
   "id": "52b553cf-4b09-4170-a3fe-4880cecaffce",
   "metadata": {},
   "outputs": [
    {
     "data": {
      "text/plain": [
       "(3392, 2)"
      ]
     },
     "execution_count": 55,
     "metadata": {},
     "output_type": "execute_result"
    }
   ],
   "source": [
    "df2.shape"
   ]
  },
  {
   "cell_type": "code",
   "execution_count": 56,
   "id": "51bc089c-7ba4-42a7-b91e-be1e26b2f231",
   "metadata": {},
   "outputs": [],
   "source": [
    "#df 병합\n",
    "result = pd.concat([df,df2],axis=1)"
   ]
  },
  {
   "cell_type": "code",
   "execution_count": 58,
   "id": "a975f011-cbee-4ca0-91e5-d5e78548a5b4",
   "metadata": {},
   "outputs": [
    {
     "data": {
      "text/html": [
       "<div>\n",
       "<style scoped>\n",
       "    .dataframe tbody tr th:only-of-type {\n",
       "        vertical-align: middle;\n",
       "    }\n",
       "\n",
       "    .dataframe tbody tr th {\n",
       "        vertical-align: top;\n",
       "    }\n",
       "\n",
       "    .dataframe thead th {\n",
       "        text-align: right;\n",
       "    }\n",
       "</style>\n",
       "<table border=\"1\" class=\"dataframe\">\n",
       "  <thead>\n",
       "    <tr style=\"text-align: right;\">\n",
       "      <th></th>\n",
       "      <th>region_office</th>\n",
       "      <th>region_office_name</th>\n",
       "      <th>post_name</th>\n",
       "      <th>address_old</th>\n",
       "      <th>address</th>\n",
       "      <th>tel</th>\n",
       "      <th>lat</th>\n",
       "      <th>long</th>\n",
       "    </tr>\n",
       "  </thead>\n",
       "  <tbody>\n",
       "    <tr>\n",
       "      <th>0</th>\n",
       "      <td>서울지방우정청</td>\n",
       "      <td>서울중앙우체국</td>\n",
       "      <td>서울중앙우체국</td>\n",
       "      <td>서울특별시 중구 충무로1가 21-1</td>\n",
       "      <td>서울특별시 중구 소공로 70 (층무로1가)</td>\n",
       "      <td>02)6450-1114</td>\n",
       "      <td>37.5615987374058</td>\n",
       "      <td>126.982169090151</td>\n",
       "    </tr>\n",
       "    <tr>\n",
       "      <th>1</th>\n",
       "      <td>서울지방우정청</td>\n",
       "      <td>서울중앙우체국</td>\n",
       "      <td>서울을지로4가우체국</td>\n",
       "      <td>서울특별시 중구 을지로4가 312-1</td>\n",
       "      <td>서울특별시 중구 을지로 154-2 (을지로4가)</td>\n",
       "      <td>02)2273-6505</td>\n",
       "      <td>37.5662028147426</td>\n",
       "      <td>126.995163067598</td>\n",
       "    </tr>\n",
       "    <tr>\n",
       "      <th>2</th>\n",
       "      <td>서울지방우정청</td>\n",
       "      <td>서울중앙우체국</td>\n",
       "      <td>서울태평로우체국</td>\n",
       "      <td>서울특별시 중구 봉래동1가 5-36 우리빌딩 2층</td>\n",
       "      <td>서울특별시 중구 칠패로 42 우리빌딩 2층 (봉래동1가)</td>\n",
       "      <td>02)3783-7025</td>\n",
       "      <td>37.5594743747373</td>\n",
       "      <td>126.973559809484</td>\n",
       "    </tr>\n",
       "    <tr>\n",
       "      <th>3</th>\n",
       "      <td>서울지방우정청</td>\n",
       "      <td>서울중앙우체국</td>\n",
       "      <td>서울퇴계로5가우체국</td>\n",
       "      <td>서울특별시 중구 장충동2가 173-3</td>\n",
       "      <td>서울특별시 중구 퇴계로 270 (장충동2가)</td>\n",
       "      <td>02)2273-6508</td>\n",
       "      <td>37.5627437974069</td>\n",
       "      <td>127.001652265803</td>\n",
       "    </tr>\n",
       "    <tr>\n",
       "      <th>4</th>\n",
       "      <td>서울지방우정청</td>\n",
       "      <td>서울중앙우체국</td>\n",
       "      <td>서울역전우체국</td>\n",
       "      <td>서울특별시 중구 봉래동2가 123</td>\n",
       "      <td>서울특별시 중구 통일로 21 (봉래동2가)</td>\n",
       "      <td>02)757-1140</td>\n",
       "      <td>37.5575861021915</td>\n",
       "      <td>126.971400388297</td>\n",
       "    </tr>\n",
       "  </tbody>\n",
       "</table>\n",
       "</div>"
      ],
      "text/plain": [
       "  region_office region_office_name   post_name                  address_old  \\\n",
       "0       서울지방우정청            서울중앙우체국     서울중앙우체국          서울특별시 중구 충무로1가 21-1   \n",
       "1       서울지방우정청            서울중앙우체국  서울을지로4가우체국         서울특별시 중구 을지로4가 312-1   \n",
       "2       서울지방우정청            서울중앙우체국    서울태평로우체국  서울특별시 중구 봉래동1가 5-36 우리빌딩 2층   \n",
       "3       서울지방우정청            서울중앙우체국  서울퇴계로5가우체국         서울특별시 중구 장충동2가 173-3   \n",
       "4       서울지방우정청            서울중앙우체국     서울역전우체국           서울특별시 중구 봉래동2가 123   \n",
       "\n",
       "                           address           tel               lat  \\\n",
       "0          서울특별시 중구 소공로 70 (층무로1가)  02)6450-1114  37.5615987374058   \n",
       "1       서울특별시 중구 을지로 154-2 (을지로4가)  02)2273-6505  37.5662028147426   \n",
       "2  서울특별시 중구 칠패로 42 우리빌딩 2층 (봉래동1가)  02)3783-7025  37.5594743747373   \n",
       "3         서울특별시 중구 퇴계로 270 (장충동2가)  02)2273-6508  37.5627437974069   \n",
       "4          서울특별시 중구 통일로 21 (봉래동2가)   02)757-1140  37.5575861021915   \n",
       "\n",
       "               long  \n",
       "0  126.982169090151  \n",
       "1  126.995163067598  \n",
       "2  126.973559809484  \n",
       "3  127.001652265803  \n",
       "4  126.971400388297  "
      ]
     },
     "execution_count": 58,
     "metadata": {},
     "output_type": "execute_result"
    }
   ],
   "source": [
    "result.head()"
   ]
  },
  {
   "cell_type": "code",
   "execution_count": 60,
   "id": "c65312e7-3de8-4b50-8ce6-1ffa02e5649d",
   "metadata": {},
   "outputs": [
    {
     "data": {
      "text/plain": [
       "(3392, 8)"
      ]
     },
     "execution_count": 60,
     "metadata": {},
     "output_type": "execute_result"
    }
   ],
   "source": [
    "result.shape"
   ]
  },
  {
   "cell_type": "code",
   "execution_count": 61,
   "id": "49d4344d-96b8-4393-9071-70dc02cc06bc",
   "metadata": {},
   "outputs": [],
   "source": [
    "result.to_csv('우체국_geo_이전_오전오후제거.csv',index = False, encoding ='euc-kr')"
   ]
  }
 ],
 "metadata": {
  "kernelspec": {
   "display_name": "Python 3 (ipykernel)",
   "language": "python",
   "name": "python3"
  },
  "language_info": {
   "codemirror_mode": {
    "name": "ipython",
    "version": 3
   },
   "file_extension": ".py",
   "mimetype": "text/x-python",
   "name": "python",
   "nbconvert_exporter": "python",
   "pygments_lexer": "ipython3",
   "version": "3.9.12"
  }
 },
 "nbformat": 4,
 "nbformat_minor": 5
}
